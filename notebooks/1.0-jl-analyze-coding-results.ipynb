{
 "cells": [
  {
   "cell_type": "markdown",
   "metadata": {},
   "source": [
    "# Data Analysis for Smartphone Web Surveys: A Systematic Literature Review"
   ]
  },
  {
   "cell_type": "markdown",
   "metadata": {},
   "source": [
    "This notebook uses the data obtained in the systematic literature review and creates a visualisation that supports the article's research questions. The notebook is structured as follows. First, the data is imported and preprocessed. After that, we create the plots and calculation for the evaluation of the systematic literature review. Then we create the visualisations for the article: \"Smartphone Web Surveys: A Systematic Literature Review\"."
   ]
  },
  {
   "cell_type": "markdown",
   "metadata": {},
   "source": [
    "## Import and merge data"
   ]
  },
  {
   "cell_type": "code",
   "execution_count": null,
   "metadata": {},
   "outputs": [],
   "source": [
    "import re\n",
    "\n",
    "import pandas as pd\n",
    "import geopandas as gpd\n",
    "from matplotlib import cm\n",
    "import matplotlib.pyplot as plt\n",
    "import seaborn as sns\n",
    "from mpl_toolkits.axes_grid1 import make_axes_locatable\n",
    "\n",
    "from src.visualization.visualize import create_visualisation_data\n",
    "from src.features.build_features import find_columns, check_columns, find_citation_key_topics"
   ]
  },
  {
   "cell_type": "code",
   "execution_count": null,
   "metadata": {},
   "outputs": [],
   "source": [
    "# Import meta data from Citations\n",
    "metadata_raw = pd.read_csv(\"../data/raw/literature_review_meta_data.csv\")"
   ]
  },
  {
   "cell_type": "code",
   "execution_count": null,
   "metadata": {},
   "outputs": [],
   "source": [
    "# Preprocess meta data\n",
    "metadata_columns_include = [\"Item Type\", \"Publication Year\", \"Author\", \"Title\", \"Publication Title\",\n",
    "                            \"Conference Name\"]\n",
    "metadata = metadata_raw[metadata_columns_include]\n",
    "metadata_column_name = ['article_genre', 'article_year', 'article_author', 'article_name', 'article_journal', \n",
    "                        'article_proceeding']\n",
    "metadata.columns = metadata_column_name"
   ]
  },
  {
   "cell_type": "code",
   "execution_count": null,
   "metadata": {},
   "outputs": [],
   "source": [
    "# Create citation key from meta data\n",
    "main_author = metadata.article_author.str.split().str.get(0).str.lower().str.replace(',','')\n",
    "first_word_title = metadata.article_name.str.split().str.get(0).str.lower()\n",
    "article_year = metadata.article_year.astype(str)\n",
    "metadata[\"citation_key\"] = main_author + \"_\" + first_word_title +  \"_\" + article_year"
   ]
  },
  {
   "cell_type": "code",
   "execution_count": null,
   "metadata": {},
   "outputs": [],
   "source": [
    "# Import coding results from literature review\n",
    "coding_results_raw = pd.read_excel(\"../data/raw/literature_coding_results.xlsx\")"
   ]
  },
  {
   "cell_type": "code",
   "execution_count": null,
   "metadata": {},
   "outputs": [],
   "source": [
    "# Merge data\n",
    "data = pd.merge(metadata, coding_results_raw, how = \"left\", on='article_name')"
   ]
  },
  {
   "cell_type": "code",
   "execution_count": null,
   "metadata": {},
   "outputs": [],
   "source": [
    "# Save data\n",
    "data.to_csv(\"../data/interim/combined_data.csv\", index = False)"
   ]
  },
  {
   "cell_type": "markdown",
   "metadata": {},
   "source": [
    "## Analyze metadata"
   ]
  },
  {
   "cell_type": "markdown",
   "metadata": {},
   "source": [
    "In this section of the notebook we analyse the extracted meta data from the literature review, that will be used for the analyses in section 3.1 in the paper."
   ]
  },
  {
   "cell_type": "markdown",
   "metadata": {},
   "source": [
    "### Overview Type of Article"
   ]
  },
  {
   "cell_type": "code",
   "execution_count": null,
   "metadata": {},
   "outputs": [],
   "source": [
    "data.groupby(\"article_genre\").size()"
   ]
  },
  {
   "cell_type": "code",
   "execution_count": null,
   "metadata": {},
   "outputs": [],
   "source": [
    "data.groupby(\"survey_data\").size()"
   ]
  },
  {
   "cell_type": "markdown",
   "metadata": {},
   "source": [
    "### Graphic Survey per Year"
   ]
  },
  {
   "cell_type": "code",
   "execution_count": null,
   "metadata": {},
   "outputs": [],
   "source": [
    "surveys_per_year = data[data.survey_year.notna()]"
   ]
  },
  {
   "cell_type": "code",
   "execution_count": null,
   "metadata": {},
   "outputs": [],
   "source": [
    "print(\"Number of publication per year: \\n\")\n",
    "print(surveys_per_year.groupby(\"article_year\").size())"
   ]
  },
  {
   "cell_type": "code",
   "execution_count": null,
   "metadata": {},
   "outputs": [],
   "source": [
    "print(\"Number of surveys per year: \\n\")\n",
    "print(surveys_per_year.groupby(\"survey_year\").size())"
   ]
  },
  {
   "cell_type": "code",
   "execution_count": null,
   "metadata": {},
   "outputs": [],
   "source": [
    "print(\"Average difference between publication and survey year: \\n\")\n",
    "print(surveys_per_year.article_year.mean()-surveys_per_year.survey_year.mean())"
   ]
  },
  {
   "cell_type": "markdown",
   "metadata": {},
   "source": [
    "### Overview of Journals and Proceedings"
   ]
  },
  {
   "cell_type": "code",
   "execution_count": null,
   "metadata": {},
   "outputs": [],
   "source": [
    "print(\"Publications per journal: \\n\")\n",
    "print(data.groupby(\"article_journal\").size().sort_values(ascending=False))"
   ]
  },
  {
   "cell_type": "code",
   "execution_count": null,
   "metadata": {},
   "outputs": [],
   "source": [
    "print(\"Publications per proceeding: \\n\")\n",
    "print(data.groupby(\"article_proceeding\").size().sort_values(ascending=False))"
   ]
  },
  {
   "cell_type": "markdown",
   "metadata": {},
   "source": [
    "### Overview of authors"
   ]
  },
  {
   "cell_type": "code",
   "execution_count": null,
   "metadata": {},
   "outputs": [],
   "source": [
    "print(\"Publications per author: \\n\")\n",
    "article_authors = pd.DataFrame({\"author\":[j for i in metadata[\"article_author\"].str.split(\"; \") for j in i]})\n",
    "publication_per_author = article_authors.groupby(\"author\").size().sort_values(ascending = False)\n",
    "print(publication_per_author.head(40))"
   ]
  },
  {
   "cell_type": "markdown",
   "metadata": {},
   "source": [
    "### Overview of Countries"
   ]
  },
  {
   "cell_type": "code",
   "execution_count": null,
   "metadata": {},
   "outputs": [],
   "source": [
    "# Prepare countries for analyses and visualisation\n",
    "survey_countries = data.survey_country.values.tolist()\n",
    "countries_to_add = [\"China\", \"USA\", \"Spain\", \"Mexico\",\"Spain\", \"Mexico\", \"UK\", \"Australia\", \"Canada\", \"Norway\"]\n",
    "countries_to_drop = [\"European Union Member and Accession Countries\",\"['China', 'USA']\", \"['Spain', 'Mexico']\",\n",
    "                     \"['UK', 'Australia', 'Canda']\", \"Spanish Speaking Countries\", \"Norwegia\"]  \n",
    "countries_complete = survey_countries + countries_to_add \n",
    "countries_for_count = [country for country in countries_complete if country not in countries_to_drop]\n",
    "country_count = pd.DataFrame({\"Country\":countries_for_count}).groupby(\"Country\").size()\n",
    "country_count_df = country_count.reset_index().rename(columns = {0: \"Count\"})\n",
    "country_count_df.replace({\"USA\": \"United States of America\",\n",
    "                          \"UK\": \" United Kingdom\"}, inplace = True)"
   ]
  },
  {
   "cell_type": "code",
   "execution_count": null,
   "metadata": {},
   "outputs": [],
   "source": [
    "print(\"Surveys per country: \\n\")\n",
    "country_count_df.sort_values(by = \"Count\", ascending=False)"
   ]
  },
  {
   "cell_type": "markdown",
   "metadata": {},
   "source": [
    "### Visualise Surveys per Country"
   ]
  },
  {
   "cell_type": "code",
   "execution_count": null,
   "metadata": {},
   "outputs": [],
   "source": [
    "# Create visualisation dataset\n",
    "world = gpd.read_file(gpd.datasets.get_path('naturalearth_lowres'))\n",
    "mapped = world.merge(country_count_df, how=\"left\", left_on=['name'], right_on=['Country'])\n",
    "mapped.fillna(0, inplace = True)\n",
    "mapped_without_antarctica = mapped[mapped.continent != \"Antarctica\"]"
   ]
  },
  {
   "cell_type": "code",
   "execution_count": null,
   "metadata": {},
   "outputs": [],
   "source": [
    "# Create color map\n",
    "cmap = cm.get_cmap(\"viridis\")\n",
    "cmap.set_under(color = 'lightgrey')"
   ]
  },
  {
   "cell_type": "code",
   "execution_count": null,
   "metadata": {},
   "outputs": [],
   "source": [
    "# Create visualisation\n",
    "fig, ax = plt.subplots(1, 1)\n",
    "\n",
    "divider = make_axes_locatable(ax)\n",
    "\n",
    "cax = divider.append_axes(\"right\", size=\"5%\", pad=0.1)\n",
    "\n",
    "ax.set_axis_off();\n",
    "\n",
    "plot_world = mapped_without_antarctica.plot(column='Count',ax=ax,cax = cax, legend=True, cmap=cmap, vmin= 1)\n",
    "                                                        \n",
    "plot_world.figure.set_figwidth(17.5)\n",
    "plot_world.figure.set_figheight(7.5)\n",
    "\n",
    "plot_world.figure.savefig('../reports/figures/surveys_per_country.png', dpi=600)"
   ]
  },
  {
   "cell_type": "markdown",
   "metadata": {},
   "source": [
    "### Overview Survey Operator"
   ]
  },
  {
   "cell_type": "code",
   "execution_count": null,
   "metadata": {},
   "outputs": [],
   "source": [
    "print(\"Surveys per operator: \\n\")\n",
    "print(data.groupby(\"survey_operator\").size().sort_values(ascending = False))"
   ]
  },
  {
   "cell_type": "markdown",
   "metadata": {},
   "source": [
    "## Identify Research Topics"
   ]
  },
  {
   "cell_type": "markdown",
   "metadata": {},
   "source": [
    "In this section we will identify the research topics, that we will describe in section 3.1 in the article."
   ]
  },
  {
   "cell_type": "code",
   "execution_count": null,
   "metadata": {},
   "outputs": [],
   "source": [
    "data_quality_indicator = [x for x in data.columns.tolist() if re.match(\"mobile_(?!participant|design).*\", x)] \n",
    "data[\"article_topic_data_quality\"] = data[data_quality_indicator].notna().any(axis = 1)\n",
    "data[\"article_topic_data_quality\"].sum()"
   ]
  },
  {
   "cell_type": "code",
   "execution_count": null,
   "metadata": {},
   "outputs": [],
   "source": [
    "mobile_participants_indicator = [x for x in data.columns.tolist() if re.match(\"mobile_participant.*\", x)] \n",
    "data[\"article_topic_mobile_participants\"] = data[mobile_participants_indicator].notna().any(axis = 1)\n",
    "data[\"article_topic_mobile_participants\"].sum()"
   ]
  },
  {
   "cell_type": "code",
   "execution_count": null,
   "metadata": {},
   "outputs": [],
   "source": [
    "mobile_design_indicator = [x for x in data.columns.tolist() if re.match(\"mobile_design.*\", x)] \n",
    "data[\"article_topic_mobile_design\"] = data[mobile_design_indicator].notna().any(axis = 1)\n",
    "data[\"article_topic_mobile_design\"].sum()"
   ]
  },
  {
   "cell_type": "code",
   "execution_count": null,
   "metadata": {},
   "outputs": [],
   "source": [
    "alternative_input_indicator = [x for x in data.columns.tolist() if re.match(\"input_alternative.*\", x)] \n",
    "data[\"article_topic_alternative_input\"] = data[alternative_input_indicator].notna().any(axis = 1)\n",
    "data[\"article_topic_alternative_input\"].sum()"
   ]
  },
  {
   "cell_type": "code",
   "execution_count": null,
   "metadata": {},
   "outputs": [],
   "source": [
    "invitation_mode_indicator = [x for x in data.columns.tolist() if re.match(\"invitation_mode.*\", x)] \n",
    "data[\"article_topic_invitation_mode\"] = data[invitation_mode_indicator].notna().any(axis = 1)\n",
    "data[\"article_topic_invitation_mode\"].sum()"
   ]
  },
  {
   "cell_type": "markdown",
   "metadata": {},
   "source": [
    "### Visualise Publications per Year per Topic"
   ]
  },
  {
   "cell_type": "code",
   "execution_count": null,
   "metadata": {},
   "outputs": [],
   "source": [
    "topic_dic = {\"Data Quality\": \"article_topic_data_quality\",\n",
    "             \"Mobile Participants\": \"article_topic_mobile_participants\",\n",
    "             \"Mobile Design\": \"article_topic_mobile_design\",\n",
    "             \"Input Alternative\": \"article_topic_alternative_input\",\n",
    "             \"Invitation Mode\": \"article_topic_invitation_mode\"}"
   ]
  },
  {
   "cell_type": "code",
   "execution_count": null,
   "metadata": {},
   "outputs": [],
   "source": [
    "# Prepare dataset\n",
    "category_per_year = create_visualisation_data(data, topic_dic)\n",
    "visualization_year_category = category_per_year.sort_values(\"Topic\").reset_index(drop = True).dropna()"
   ]
  },
  {
   "cell_type": "code",
   "execution_count": null,
   "metadata": {},
   "outputs": [],
   "source": [
    "# Visualise data\n",
    "sns.set_style('white')\n",
    "sns.set_context('paper', font_scale = 2)\n",
    "plot = sns.displot(data=visualization_year_category, x= \"Year\",bins = 14,\n",
    "            hue=\"Topic\", col = \"Topic\", col_wrap=3,legend = False, \n",
    "           )\n",
    "plt.subplots_adjust(wspace=0.2)\n",
    "plot.set_xticklabels(rotation=45)\n",
    "plot.set(xlim=(2009,2021),\n",
    "         xticks= (range(2009,2022)),\n",
    "         xticklabels=(range(2009,2022)))\n",
    "plot.savefig('../reports/figures/publications_per_year_per_categories.png')"
   ]
  },
  {
   "cell_type": "markdown",
   "metadata": {},
   "source": [
    "## Survey Quality"
   ]
  },
  {
   "cell_type": "markdown",
   "metadata": {},
   "source": [
    "This section prepares all inforamtion showcased in section 3.2 of the article."
   ]
  },
  {
   "cell_type": "markdown",
   "metadata": {},
   "source": [
    "### Data Quality"
   ]
  },
  {
   "cell_type": "code",
   "execution_count": null,
   "metadata": {},
   "outputs": [],
   "source": [
    "quality_indicator = find_columns(data, \"mobile_(?!participant|design).*\")"
   ]
  },
  {
   "cell_type": "code",
   "execution_count": null,
   "metadata": {},
   "outputs": [],
   "source": [
    "know_bias_dic = {\"Known Manipulation Bias\" : ['mobile_bias_image_presentation',\n",
    "                                              'mobile_bias_low_versus_high_frequency',\n",
    "                                              'mobile_bias_navigation_unwillingness',\n",
    "                                              'mobile_bias_need_for_scrolling',\n",
    "                                              'mobile_bias_single_versus_multiple_questions_on_page',\n",
    "                                              'mobile_bias_text_answer_avoiding',\n",
    "                                              'mobile_joint_versus_seperate_evaluation_bias_more']}"
   ]
  },
  {
   "cell_type": "code",
   "execution_count": null,
   "metadata": {},
   "outputs": [],
   "source": [
    "completion_rate_dic = {\"Completion Rate\" : ['mobile_completion_rate_close_ended_lower',\n",
    "                                            'mobile_completion_rate_lower',\n",
    "                                            'mobile_completion_rate_matrix_lower',\n",
    "                                            'mobile_completion_rate_open_questions_lower']}"
   ]
  },
  {
   "cell_type": "code",
   "execution_count": null,
   "metadata": {},
   "outputs": [],
   "source": [
    "completion_time_dic = {\"Completion Time\" : ['mobile_completion_time_breakdown',\n",
    "                                            'mobile_completion_time_higher',\n",
    "                                            'mobile_completion_time_higher_subjective',\n",
    "                                            'mobile_completion_time_lower',\n",
    "                                            'mobile_completion_time_multiple_questions_higher',\n",
    "                                            'mobile_completion_time_text_anwser_higher',\n",
    "                                            'mobile_network_latency_higher',\n",
    "                                            'mobile_processsing_time_higher',\n",
    "                                            'mobile_scrolling_time_more',\n",
    "                                            'mobile_transmission_time_higher']}"
   ]
  },
  {
   "cell_type": "code",
   "execution_count": null,
   "metadata": {},
   "outputs": [],
   "source": [
    "device_impact_dic = {\"Mobile Device Impact\": ['mobile_device_less_powerful_deivce_higher_processing_time_than_more_powerful',\n",
    "                                              'mobile_device_less_powerful_deivce_higher_transmission_time_than_more_powerful',\n",
    "                                              'mobile_device_less_powerful_device_higher_completion_time_than_more_powerful',\n",
    "                                              'mobile_device_more_powerful_device_higher_completion_time',\n",
    "                                              'mobile_device_more_powerful_higher_processing_time',\n",
    "                                              'mobile_device_more_powerful_higher_transmission_time',\n",
    "                                              'mobile_device_type_influence_breakoff_rate']}"
   ]
  },
  {
   "cell_type": "code",
   "execution_count": null,
   "metadata": {},
   "outputs": [],
   "source": [
    "sensitive_questions_dic = {\"Sensitive Questions\" : ['mobile_sensitive_questions_answering_less',\n",
    "                                                    'mobile_sensitive_questions_answering_more',\n",
    "                                                    'mobile_sensitive_questions_less_sensitive',\n",
    "                                                    'mobile_sensitive_questions_less_uneasy',\n",
    "                                                    'mobile_sensitive_questions_more_uneasy',\n",
    "                                                    'mobile_sensitivity_perceived_higher']}"
   ]
  },
  {
   "cell_type": "code",
   "execution_count": null,
   "metadata": {},
   "outputs": [],
   "source": [
    "primacy_effect_dic = {\"Primacy effect\" : ['mobile_primacy_effect_higher',\n",
    "                                          'mobile_primacy_effect_higher_effect_categorical', \n",
    "                                          'mobile_response_order_bias_more']}"
   ]
  },
  {
   "cell_type": "code",
   "execution_count": null,
   "metadata": {},
   "outputs": [],
   "source": [
    "avoid_text_dic = {\"Text answer avoiding\": ['mobile_text_answer_avoid_more']}"
   ]
  },
  {
   "cell_type": "code",
   "execution_count": null,
   "metadata": {},
   "outputs": [],
   "source": [
    "text_length_dic = {\"Text answer length\" : ['mobile_text_answer_shorter',\n",
    "                                           'mobile_text_anwser_longer',\n",
    "                                           'mobile_unaceptably_short_anwser_less']}"
   ]
  },
  {
   "cell_type": "code",
   "execution_count": null,
   "metadata": {},
   "outputs": [],
   "source": [
    "response_rate_dic = {\"Reponse rate\" : ['mobile_response_rate_complex_question_higher',\n",
    "                                       'mobile_response_rate_lower']}"
   ]
  },
  {
   "cell_type": "code",
   "execution_count": null,
   "metadata": {},
   "outputs": [],
   "source": [
    "straightlining_dic = {\"Straightlining\" : ['mobile_straightlining_less',\n",
    "                                          'mobile_straightlining_more']}"
   ]
  },
  {
   "cell_type": "code",
   "execution_count": null,
   "metadata": {},
   "outputs": [],
   "source": [
    "non_substantial_dic = {\"Non substantial Anwser\" : ['mobile_non_differentiated_answers_more',\n",
    "                                                   'mobile_non_substantial_anwser_more',\n",
    "                                                   'mobile_non_substantial_anwser_single_choice_more',\n",
    "                                                   'mobile_text_response_nonrelevant_more']}"
   ]
  },
  {
   "cell_type": "code",
   "execution_count": null,
   "metadata": {},
   "outputs": [],
   "source": [
    "scale_effects_dic = {\"Scale effects\" : ['mobile_scale_effects_more',\n",
    "                                        'mobile_scale_reliability_lower']}"
   ]
  },
  {
   "cell_type": "code",
   "execution_count": null,
   "metadata": {},
   "outputs": [],
   "source": [
    "breakoff_rate_dic = {\"Breakoff rate\" : ['mobile_breakoff_rate_higher']}"
   ]
  },
  {
   "cell_type": "code",
   "execution_count": null,
   "metadata": {},
   "outputs": [],
   "source": [
    "usability_dic = {\"Usability\" : [ 'mobile_technical_difficulties_more',\n",
    "                                'mobile_usability_lower']}"
   ]
  },
  {
   "cell_type": "code",
   "execution_count": null,
   "metadata": {},
   "outputs": [],
   "source": [
    "survey_satisfaction_dic = {\"Survey Satisfaction\" : ['mobile_satisfaction_lower',\n",
    "                                                    'mobile_enjoyment_of_survey_less']}"
   ]
  },
  {
   "cell_type": "code",
   "execution_count": null,
   "metadata": {},
   "outputs": [],
   "source": [
    "socially_undesirable_dic = {\"Socially Undesirable Anwsers\" : ['mobile_socially_undesirable_answers_more']}"
   ]
  },
  {
   "cell_type": "code",
   "execution_count": null,
   "metadata": {},
   "outputs": [],
   "source": [
    "satisficing_dic = {\"Satisficing\" : ['mobile_left_aligned_options_choice_less',\n",
    "                                    'mobile_midpoint_responding_more', \n",
    "                                    'mobile_left_aligned_options_choice_less',\n",
    "                                    'mobile_midpoint_responding_more',\n",
    "                                    'mobile_more_heaping',\n",
    "                                    'mobile_motivated_underreporting_more',\n",
    "                                    'mobile_positive_evaluation_anwser_less',\n",
    "                                    'mobile_satisficing_check_box_more',\n",
    "                                    'mobile_instruction_manipulation_check_failure_more',\n",
    "                                    'mobile_inter_item_correlation_grid_more', \n",
    "                                    'mobile_check_all_that_apply_anwsers_less',\n",
    "                                    'mobile_acquiescence_more']}"
   ]
  },
  {
   "cell_type": "code",
   "execution_count": null,
   "metadata": {},
   "outputs": [],
   "source": [
    "missing_item_dic={\"Mising items rate\": ['mobile_missing_items_rate_higher']}"
   ]
  },
  {
   "cell_type": "code",
   "execution_count": null,
   "metadata": {},
   "outputs": [],
   "source": [
    "incosistent_anwsers_dic = {\"Incosistent,errenous and random Anwsers\" : ['mobile_anwser_changes_more',\n",
    "                                                                        'mobile_construct_validity',\n",
    "                                                                        'mobile_inconsistent_anwsers_more',\n",
    "                                                                        'mobile_reponse_randomness_higher',\n",
    "                                                                        'mobile_error_rate_higher',\n",
    "                                                                        'mobile_estimates_biased_more',\n",
    "                                                                        'mobile_measurement_quality_lower']}"
   ]
  },
  {
   "cell_type": "code",
   "execution_count": null,
   "metadata": {},
   "outputs": [],
   "source": [
    "response_time_dic = {\"Response time\" : ['mobile_response_later_on_day',\n",
    "                                        'mobile_response_time_faster']}"
   ]
  },
  {
   "cell_type": "code",
   "execution_count": null,
   "metadata": {},
   "outputs": [],
   "source": [
    "incentive_dic = {\"Incentive\": [\"mobile_higher_survey_incentive_higher_participation\"]}"
   ]
  },
  {
   "cell_type": "code",
   "execution_count": null,
   "metadata": {},
   "outputs": [],
   "source": [
    "other_dic = {\"Other\" : ['mobile_results_different',\n",
    "                        'mobile_willingness_rate_lower', \n",
    "                        'mobile_higher_survey_incentive_higher_participation', \n",
    "                        'mobile_lost_focus_more',\n",
    "                        'mobile_low_familarity_completion_time_higher',\n",
    "                        'mobile_order_by_click_different_results']}"
   ]
  },
  {
   "cell_type": "code",
   "execution_count": null,
   "metadata": {
    "scrolled": false
   },
   "outputs": [],
   "source": [
    "quality_dic_list = [completion_rate_dic, know_bias_dic, completion_rate_dic, completion_time_dic, device_impact_dic,\n",
    "                    sensitive_questions_dic, primacy_effect_dic, avoid_text_dic,text_length_dic, response_rate_dic,\n",
    "                    straightlining_dic,non_substantial_dic, scale_effects_dic, breakoff_rate_dic, usability_dic,\n",
    "                    survey_satisfaction_dic, socially_undesirable_dic,satisficing_dic, missing_item_dic,\n",
    "                     incosistent_anwsers_dic, response_time_dic, incentive_dic, other_dic,]"
   ]
  },
  {
   "cell_type": "code",
   "execution_count": null,
   "metadata": {
    "scrolled": true
   },
   "outputs": [],
   "source": [
    "check_columns(quality_indicator, quality_dic_list)"
   ]
  },
  {
   "cell_type": "code",
   "execution_count": null,
   "metadata": {},
   "outputs": [],
   "source": [
    "# Final citation used for article\n",
    "design_citation_key_dic = find_citation_key_topics(data, quality_dic_list)"
   ]
  },
  {
   "cell_type": "markdown",
   "metadata": {},
   "source": [
    "### Survey Participants"
   ]
  },
  {
   "cell_type": "code",
   "execution_count": null,
   "metadata": {},
   "outputs": [],
   "source": [
    "participants_indicator = find_columns(data, \"mobile_participants_.*\")"
   ]
  },
  {
   "cell_type": "code",
   "execution_count": null,
   "metadata": {},
   "outputs": [],
   "source": [
    "coverage_bias_dic = {\"Coverage Bias\" : ['mobile_participants_coverage_bias',\n",
    "                                        'mobile_participants_coverage_bias_weighting_elimated',\n",
    "                                        'mobile_participants_representative_not',\n",
    "                                        'mobile_participants_mobile_increasing',\n",
    "                                        'mobile_participants_insights',\n",
    "                                        'mobile_participants_increasing_usage_of_smartphone']}"
   ]
  },
  {
   "cell_type": "code",
   "execution_count": null,
   "metadata": {},
   "outputs": [],
   "source": [
    "education_dic = {\"Education\" : ['mobile_participants_education_higher',\n",
    "                                'mobile_participants_education_lower',\n",
    "                                'mobile_participants_higher_educated_willingness_use_mobile_higher',\n",
    "                                'mobile_participants_higher_education_use_mobile_more',\n",
    "                                'mobile_participants_more_educated_use_smartphone_more']}"
   ]
  },
  {
   "cell_type": "code",
   "execution_count": null,
   "metadata": {},
   "outputs": [],
   "source": [
    "income_dic = {\"Income\" : ['mobile_participants_income_higher',\n",
    "                          'mobile_participants_income_lower',\n",
    "                          'mobile_participants_social_class_higher',\n",
    "                          'mobile_participants_lower_income_use_mobile_more',\n",
    "                          'mobile_participants_higher_income_willingness_use_mobile_higher']}"
   ]
  },
  {
   "cell_type": "code",
   "execution_count": null,
   "metadata": {},
   "outputs": [],
   "source": [
    "gender_dic = {\"Gender\" : ['mobile_participants_more_female',\n",
    "                          'mobile_participants_more_male',\n",
    "                          'mobile_participants_female_willingness_use_mobile_higher',\n",
    "                          'mobile_participants_female_use_mobile_more',\n",
    "                          'mobile_participants_male_more_mobile_than_female ',\n",
    "                          'mobile_participants_male_more_android_than_female',\n",
    "                          'mobile_participants_male_more_ios_than_female']}"
   ]
  },
  {
   "cell_type": "code",
   "execution_count": null,
   "metadata": {},
   "outputs": [],
   "source": [
    "age_dic = {\"Age\" : ['mobile_participants_younger', \n",
    "                    'mobile_participants_millenial_willing_to_use_emoji',\n",
    "                    'mobile_participants_millenials_participate_more_mobile',\n",
    "                    'mobile_participants_younger_willingness_use_mobile_higher',\n",
    "                    'mobile_participants_not_accepting_mobile_survey_older',\n",
    "                    'mobile_participants_young_use_mobile_more']}"
   ]
  },
  {
   "cell_type": "code",
   "execution_count": null,
   "metadata": {},
   "outputs": [],
   "source": [
    "urban_dic = {\"Urbanity\" : ['mobile_participants_more_urban',\n",
    "                           'mobile_participants_more_urban_use_mobile_more']}"
   ]
  },
  {
   "cell_type": "code",
   "execution_count": null,
   "metadata": {},
   "outputs": [],
   "source": [
    "distraction_dic = {\"Distraction\" : ['mobile_participants_more_distracted',\n",
    "                                    'mobile_participants_more_multitasking',\n",
    "                                    'mobile_participants_multiple_browser_sessions_more',\n",
    "                                    'mobile_participants_less_alone',\n",
    "                                    'mobile_participants_more_stranger_present']}"
   ]
  },
  {
   "cell_type": "code",
   "execution_count": null,
   "metadata": {},
   "outputs": [],
   "source": [
    "mobility_dic = {\"Mobility of participants\": ['mobile_participants_more_mobile',\n",
    "                                             'mobile_participants_more_moving']}"
   ]
  },
  {
   "cell_type": "code",
   "execution_count": null,
   "metadata": {},
   "outputs": [],
   "source": [
    "device_use_dic = {\"Device use\" : ['mobile_participants_male_more_android_than_female',\n",
    "                                  'mobile_participants_male_more_ios_than_female']}"
   ]
  },
  {
   "cell_type": "code",
   "execution_count": null,
   "metadata": {},
   "outputs": [],
   "source": [
    "other_dic = {\"Other\" : ['mobile_participants_positive_asylum_decision_higher_participation',\n",
    "                        'mobile_participants_more_willing_passive_data_collection',\n",
    "                        'mobile_participants_less_trust_in_confidentiality',\n",
    "                        'mobile_participants_more_progressive']}"
   ]
  },
  {
   "cell_type": "code",
   "execution_count": null,
   "metadata": {
    "scrolled": false
   },
   "outputs": [],
   "source": [
    "participant_dict_list = [coverage_bias_dic,education_dic,income_dic, gender_dic, age_dic, urban_dic,\n",
    "                         distraction_dic, mobility_dic, device_use_dic, other_dic ]"
   ]
  },
  {
   "cell_type": "code",
   "execution_count": null,
   "metadata": {},
   "outputs": [],
   "source": [
    "check_columns(participants_indicator, participant_dict_list)"
   ]
  },
  {
   "cell_type": "code",
   "execution_count": null,
   "metadata": {},
   "outputs": [],
   "source": [
    "# Final citation used for article\n",
    "participants_citation_key_dic = find_citation_key_topics(data, participant_dict_list)"
   ]
  },
  {
   "cell_type": "markdown",
   "metadata": {},
   "source": [
    "## Survey Design"
   ]
  },
  {
   "cell_type": "markdown",
   "metadata": {},
   "source": [
    "In this section we prepare the analyses of section 3.3 in the work."
   ]
  },
  {
   "cell_type": "markdown",
   "metadata": {},
   "source": [
    "### Mobile Design"
   ]
  },
  {
   "cell_type": "code",
   "execution_count": null,
   "metadata": {},
   "outputs": [],
   "source": [
    "design_dimensions = find_columns(data, \"mobile_design_.*\")"
   ]
  },
  {
   "cell_type": "code",
   "execution_count": null,
   "metadata": {},
   "outputs": [],
   "source": [
    "emoji_dic = {\"Emoji\" : ['mobile_design_emoji_different_mean_rating',\n",
    "                        'mobile_design_emoji_different_satisfaction',\n",
    "                        'mobile_design_emoji_preference_differs_between_countries',\n",
    "                        'mobile_design_emoji_request_decreases_completion_time',\n",
    "                        'mobile_design_emoji_request_increase_informatio_conveyed',\n",
    "                        'mobile_design_emoji_request_less_complex_survey',\n",
    "                        'mobile_design_emoji_usage_differs_between_countries']}"
   ]
  },
  {
   "cell_type": "code",
   "execution_count": null,
   "metadata": {},
   "outputs": [],
   "source": [
    "grid_dic = {\"Question Grid\" : ['mobile_design_grid_versus_item_by_item_anwser_change_more',\n",
    "                               'mobile_design_grid_versus_item_by_item_completion_time_shorter',\n",
    "                               'mobile_design_grid_versus_item_by_item_correlation_more',\n",
    "                               'mobile_design_grid_versus_item_by_item_failure_instruction_manipulation_check_more',\n",
    "                               'mobile_design_grid_versus_item_by_item_lost_focus_less',\n",
    "                               'mobile_design_grid_versus_item_by_item_non_differentiation_more',\n",
    "                               'mobile_design_grid_versus_item_by_item_non_substantial_anwsers_more',\n",
    "                               'mobile_design_grid_versus_item_by_item_straightlining_more',\n",
    "                               'mobile_design_grid_versus_item_by_item_subjective_evaluation_lower',\n",
    "                               'mobile_design_grid_versus_item_by_item_technical_difficulties_more',\n",
    "                               'mobile_design_split_grid_into_different_questions_reduces_non_differentiation',\n",
    "                               'mobile_design_more_correlation_in_grid_versus_one_at_a_time_presentation']}"
   ]
  },
  {
   "cell_type": "code",
   "execution_count": null,
   "metadata": {},
   "outputs": [],
   "source": [
    "item_by_item_dic = {\"Item by Item\" : ['mobile_design_grid_versus_item_by_item_anwser_change_more',\n",
    "                                      'mobile_design_grid_versus_item_by_item_completion_time_shorter',\n",
    "                                      'mobile_design_grid_versus_item_by_item_correlation_more',\n",
    "                                      'mobile_design_grid_versus_item_by_item_failure_instruction_manipulation_check_more',\n",
    "                                      'mobile_design_grid_versus_item_by_item_lost_focus_less',\n",
    "                                      'mobile_design_grid_versus_item_by_item_non_differentiation_more',\n",
    "                                      'mobile_design_grid_versus_item_by_item_non_substantial_anwsers_more',\n",
    "                                      'mobile_design_grid_versus_item_by_item_straightlining_more',\n",
    "                                      'mobile_design_grid_versus_item_by_item_subjective_evaluation_lower',\n",
    "                                      'mobile_design_grid_versus_item_by_item_technical_difficulties_more','mobile_design_item_by_item_higher_number_of_columns_higher_straightlining',\n",
    "                                      'mobile_design_item_by_item_higher_number_of_columns_higher_survey_rating',\n",
    "                                      'mobile_design_item_by_item_higher_number_of_rows_higher_dropout',\n",
    "                                      'mobile_design_item_by_item_higher_number_of_rows_higher_nonreponse',\n",
    "                                      'mobile_design_item_by_item_higher_number_of_rows_higher_straightlining',\n",
    "                                      'mobile_design_item_by_item_higher_number_of_rows_higher_survey_rating',\n",
    "                                      'mobile_design_item_by_item_higher_number_of_columns_higher_dropout',\n",
    "                                      'mobile_design_more_correlation_in_grid_versus_one_at_a_time_presentation',\n",
    "                                      'mobile_design_split_grid_into_different_questions_reduces_non_differentiation']}"
   ]
  },
  {
   "cell_type": "code",
   "execution_count": null,
   "metadata": {},
   "outputs": [],
   "source": [
    "paging_dic = {\"paging\" : ['mobile_design_paging_higher_break_off_rate_than_scrolling',\n",
    "                          'mobile_design_paging_higher_item_nonresponse_than_scrolling',\n",
    "                          'mobile_design_paging_higher_primacy_effect_than_scrolling',\n",
    "                          'mobile_design_paging_longer_completion_time_subjective_than_scrolling',\n",
    "                          'mobile_design_paging_longer_completion_time_than_scrolling',\n",
    "                          'mobile_design_paging_lower_item_nonreponse_than_scrolling',\n",
    "                          'mobile_design_paging_lower_satisfaction_than_scrolling',\n",
    "                          'mobile_design_paging_more_difficult_than_scrolling']}"
   ]
  },
  {
   "cell_type": "code",
   "execution_count": null,
   "metadata": {},
   "outputs": [],
   "source": [
    "slider_dic = {\"Slider\" : ['mobile_design_slider_anwser_less_accurate',\n",
    "                          'mobile_design_slider_satisficing_higher',\n",
    "                          'mobile_design_sliders_more_negative_evaluation_than_buttons',\n",
    "                          'mobile_design_sliders_more_non_response_than_buttons',\n",
    "                          'mobile_design_sliders_more_non_substantive_anwser_than_buttons']}"
   ]
  },
  {
   "cell_type": "code",
   "execution_count": null,
   "metadata": {},
   "outputs": [],
   "source": [
    "visual_analogue_dic = {\"Visual Analogue\" : ['mobile_design_visual_analogue_scales_more_negative_evaluation_than_buttons',\n",
    "                                            'mobile_design_visual_analogue_scales_more_non_response_than_buttons',\n",
    "                                            'mobile_design_visual_analogue_scales_more_non_substantive_anwser_than_buttons']}"
   ]
  },
  {
   "cell_type": "code",
   "execution_count": null,
   "metadata": {},
   "outputs": [],
   "source": [
    "mobile_optimisation_impact_dic = {\"Mobile optimisation impact\" : ['mobile_design_not_optimized_mobile_avoid_text_answer_more_than_optimized',\n",
    "                                                                  'mobile_design_not_optimized_mobile_completion_time_higher_than_optimized',\n",
    "                                                                  'mobile_design_not_optimized_mobile_less_text_than_optimized',\n",
    "                                                                  'mobile_design_not_optimized_mobile_non_substantial_anwser_more_than_optimized',\n",
    "                                                                  'mobile_design_optimized_online_higher_completion_rate']}"
   ]
  },
  {
   "cell_type": "code",
   "execution_count": null,
   "metadata": {},
   "outputs": [],
   "source": [
    "navigation_dic = {\"(Automatic) Navigation with Text, buttons or icons\" : ['mobile_design_always_on_next_button_data_quality_difference_to_two_columns',\n",
    "                                                                          'mobile_design_icon_navigation_versus_text_navigation_navigation_errors_more',\n",
    "                                                                          'mobile_design_icon_navigation_versus_text_navigation_reponse_time_first_try_slower',\n",
    "                                                                          'mobile_design_icon_navigation_versus_text_navigation_satisfaction_higher',\n",
    "                                                                          'mobile_design_next_button_always_visible_less_missing_data_than_not_always_visible',\n",
    "                                                                          'mobile_design_next_button_always_visible_lower_completion_time_than_not_always_visible',\n",
    "                                                                          'mobile_design_next_button_always_visible_more_missing-item',\n",
    "                                                                          'mobile_design_next_button_always_visible_shorter_completion_time',\n",
    "                                                                          'mobile_design_next_button_always_visible_with_columns_less_missing_data_than_not_always_visible',\n",
    "                                                                          'mobile_design_optimized_and_auto_forwarding_higher_satisfaction',\n",
    "                                                                          'mobile_design_optimized_and_auto_forwarding_shorter_reponse_time',\n",
    "                                                                          'mobile_design_text_navigation_preferred_over_icon_navigation',\n",
    "                                                                          'mobile_design_text_navigation_preferred_over_icon_navigation',\n",
    "                                                                          'mobile_design_two_columns_with_next_button_always_visible_less_missing_data_than_one_column'\n",
    "                                                                         ]}"
   ]
  },
  {
   "cell_type": "code",
   "execution_count": null,
   "metadata": {},
   "outputs": [],
   "source": [
    "modularisation_dic = {\"Modularisation\" : ['mobile_design_modularization_increases_mobile_participation',\n",
    "                                          'mobile_design_questions_all_at_once_higher_completion_time',\n",
    "                                          'mobile_design_questions_all_at_once_higher_usability',\n",
    "                                          'mobile_design_questions_by_one_at_a_time_higher_completion_time',\n",
    "                                          'mobile_design_questions_by_one_at_a_time_higher_usability',\n",
    "                                          'mobile_design_questions_by_section_higher_completion_time',\n",
    "                                          'mobile_design_questions_by_section_higher_usability',\n",
    "                                          'mobile_design_recommendations',\n",
    "                                          'mobile_design_split_questionnaire_design_more_accurate']}"
   ]
  },
  {
   "cell_type": "code",
   "execution_count": null,
   "metadata": {},
   "outputs": [],
   "source": [
    "vertical_versus_horizontal_dic = {\"Vertical versus horizontal\" : ['mobile_design_vertical_higher_primacy_effect_than_horizontal',\n",
    "                                                                  'mobile_design_vertical_longer_completion_time_than_horizontal',\n",
    "                                                                  'mobile_design_vertical_more_difficult_than_horizontal',\n",
    "                                                                  'mobile_design_layout_vertical_lower_item_nonresponse_than_horizontal']}"
   ]
  },
  {
   "cell_type": "code",
   "execution_count": null,
   "metadata": {},
   "outputs": [],
   "source": [
    "radio_button_dic = {\"Radio button\" : ['mobile_design_android_spinner_higher_satisfaction_than_radio_button',\n",
    "                                      'mobile_design_android_spinner_longer_completion_time_than_radio_button',\n",
    "                                      'mobile_design_android_spinner_lower_accuracy_than_radio_button',\n",
    "                                      'mobile_design_ios_picker_longer_completion_time_than_radio_button',\n",
    "                                      'mobile_design_ios_picker_lower_accuracy_than_radio_button',\n",
    "                                      'mobile_design_ios_picker_versus_radio_button_repondent_burden_higher',\n",
    "                                      'mobile_design_ios_picker_versus_radio_button_satisfaction_higher',\n",
    "                                      'mobile_design_no_clear_effects_of_different_radio_button_alternatives']}"
   ]
  },
  {
   "cell_type": "code",
   "execution_count": null,
   "metadata": {},
   "outputs": [],
   "source": [
    "multimedia_dic = {\"Image and Video\" : ['mobile_design_video_able_to_view_less',\n",
    "                                       'mobile_design_image_effect_lower']}"
   ]
  },
  {
   "cell_type": "code",
   "execution_count": null,
   "metadata": {},
   "outputs": [],
   "source": [
    "other_dic = {\"Other\" : ['mobile_design_standards',\n",
    "                        'mobile_design_agree_disagree_shorter_completion_time_than_item_specific_question',\n",
    "                        'mobile_design_date_picker_anwser_less_accurate',\n",
    "                        'mobile_design_date_picker_less_successful_answers',\n",
    "                        'mobile_design_less_item_scrolling_shorter_completion_time',\n",
    "                        'mobile_design_less_items_scrolling_higher_breakoff',\n",
    "                        'mobile_design_measurement_invariance_decremental_scale',\n",
    "                        'mobile_design_measurement_invariance_incremental_scale',\n",
    "                        'mobile_design_numeric_label_smaller_impact_than_pc',\n",
    "                        'mobile_design_one_column_data_quality_difference_to_two_columns']}"
   ]
  },
  {
   "cell_type": "code",
   "execution_count": null,
   "metadata": {
    "scrolled": false
   },
   "outputs": [],
   "source": [
    "design_dict_list = [emoji_dic, grid_dic,item_by_item_dic,paging_dic, slider_dic, visual_analogue_dic,\n",
    "                    mobile_optimisation_impact_dic, navigation_dic, modularisation_dic, \n",
    "                    vertical_versus_horizontal_dic, radio_button_dic, multimedia_dic, other_dic]"
   ]
  },
  {
   "cell_type": "code",
   "execution_count": null,
   "metadata": {},
   "outputs": [],
   "source": [
    "check_columns(design_dimensions, design_dict_list)"
   ]
  },
  {
   "cell_type": "code",
   "execution_count": null,
   "metadata": {},
   "outputs": [],
   "source": [
    "# Final citation used for article\n",
    "design_citation_key_dic = find_citation_key_topics(data, design_dict_list)"
   ]
  },
  {
   "cell_type": "markdown",
   "metadata": {},
   "source": [
    "### Invitation Mode"
   ]
  },
  {
   "cell_type": "code",
   "execution_count": null,
   "metadata": {},
   "outputs": [],
   "source": [
    "invitation_indicator = find_columns(data, \"invitation_mode_.*\")"
   ]
  },
  {
   "cell_type": "code",
   "execution_count": null,
   "metadata": {},
   "outputs": [],
   "source": [
    "sms_dic = {\"SMS\" : ['invitation_mode_breakoff_rate_sms_invitation_higher',\n",
    "                    'invitation_mode_mobile_participants_rate_sms_invitation_higher',\n",
    "                    'invitation_mode_mobile_reponse_rate_sms_invitation_higher',\n",
    "                    'invitation_mode_mobile_reponse_time_after_reminder_faster',\n",
    "                    'invitation_mode_mobile_reponse_time_sms_invitation_shorter_than_e_mail_invitation',\n",
    "                    'invitation_mode_rdd_sms_response_rate_low',\n",
    "                    'invitation_mode_sms_inivitation_higher_mobile_participation',\n",
    "                    'invitation_mode_sms_invitation_mobile_breakoff_rate_higher']}"
   ]
  },
  {
   "cell_type": "code",
   "execution_count": null,
   "metadata": {},
   "outputs": [],
   "source": [
    "mail_dic = {\"Mail\" : ['invitation_mode_optimized_letter_changes_age_structure',\n",
    "                      'invitation_mode_optimized_letter_means_higher_mobile_reponses',\n",
    "                      'invitation_mode_optimized_letter_means_higher_reponses']}"
   ]
  },
  {
   "cell_type": "code",
   "execution_count": null,
   "metadata": {
    "scrolled": false
   },
   "outputs": [],
   "source": [
    "invitation_dict_list = [sms_dic, mail_dic]"
   ]
  },
  {
   "cell_type": "code",
   "execution_count": null,
   "metadata": {},
   "outputs": [],
   "source": [
    "check_columns(invitation_indicator, invitation_dict_list)"
   ]
  },
  {
   "cell_type": "code",
   "execution_count": null,
   "metadata": {},
   "outputs": [],
   "source": [
    "# Final citation used for article\n",
    "invitation_citation_key_dic = find_citation_key_topics(data, invitation_dict_list)"
   ]
  },
  {
   "cell_type": "markdown",
   "metadata": {},
   "source": [
    "### Alternative Input"
   ]
  },
  {
   "cell_type": "code",
   "execution_count": null,
   "metadata": {},
   "outputs": [],
   "source": [
    "alternative_input_indicator = find_columns(data, \"input_alternativ.*\")"
   ]
  },
  {
   "cell_type": "code",
   "execution_count": null,
   "metadata": {},
   "outputs": [],
   "source": [
    "voice_dic = {\"Voice\" : ['input_alternative_android_voice_higher_nonreponse_than_text',\n",
    "                        'input_alternative_android_voice_less_valid_answers_than_text',\n",
    "                        'input_alternative_android_voice_more_characters_than_text',\n",
    "                        'input_alternative_android_voice_more_complicated_than_text',\n",
    "                        'input_alternative_android_voice_more_techical_problems_than_text',\n",
    "                        'input_alternative_android_voice_trust_anonymity_less_than_text',\n",
    "                        'input_alternative_ios_voice_higher_nonreponse_than_text',\n",
    "                        'input_alternative_ios_voice_less_characters_than_text',\n",
    "                        'input_alternative_ios_voice_less_valid_answers_than_text',\n",
    "                        'input_alternative_ios_voice_more_complicated_than_text',\n",
    "                        'input_alternative_ios_voice_trust_anonymity_less_than_text',\n",
    "                        'input_alternative_voice_different_instruction_reduce_technical_problems',\n",
    "                        'input_alternative_voice_faster_per_character_than_text']}"
   ]
  },
  {
   "cell_type": "code",
   "execution_count": null,
   "metadata": {},
   "outputs": [],
   "source": [
    "image_dic = {\"Image\" : ['input_alternative_image_taking_lower_compliance_than_image_uploading',\n",
    "                        'input_alternative_not_clear_reasons_for_non_compliance_images']}"
   ]
  },
  {
   "cell_type": "code",
   "execution_count": null,
   "metadata": {},
   "outputs": [],
   "source": [
    "messenger_dic = {\"Messenger\": ['input_alternative_messenger_completion_rate_lower',\n",
    "                               'input_alternative_messenger_completion_time_longer',\n",
    "                               'input_alternative_messenger_shorter_text',]}"
   ]
  },
  {
   "cell_type": "code",
   "execution_count": null,
   "metadata": {},
   "outputs": [],
   "source": [
    "sensor_data_dic = {\"Sensor data\": ['input_alternative_moving_data_higher_motion_means_higher_completion_time_if_grid',\n",
    "                                   'input_alternative_moving_data_higher_motion_means_higher_completion_time_if_single_question',\n",
    "                                   'input_alternative_moving_data_higher_motion_means_higher_primacy_effect_if_grid',\n",
    "                                   'input_alternative_moving_data_higher_motion_means_higher_primacy_effect_if_single_question',\n",
    "                                   'input_alternative_moving_data_standing_less_extreme_values_than_walking',\n",
    "                                   'input_alternative_moving_data_standing_less_primacy_more_than_walking',\n",
    "                                   'input_alternative_moving_data_standing_more_middle_values_than_walking',\n",
    "                                   'input_alternative_moving_data_standing_more_recency_than_walking',\n",
    "                                   'input_alternative_moving_data_standing_motion_compliance_more_than_walking']}"
   ]
  },
  {
   "cell_type": "code",
   "execution_count": null,
   "metadata": {
    "scrolled": false
   },
   "outputs": [],
   "source": [
    "alternative_input_dict_list = [voice_dic, image_dic, messenger_dic, sensor_data_dic]"
   ]
  },
  {
   "cell_type": "code",
   "execution_count": null,
   "metadata": {},
   "outputs": [],
   "source": [
    "check_columns(alternative_input_indicator, alternative_input_dict_list)"
   ]
  },
  {
   "cell_type": "code",
   "execution_count": null,
   "metadata": {},
   "outputs": [],
   "source": [
    "# Final citation used for article\n",
    "alternative_input_citation_key_dic = find_citation_key_topics(data, alternative_input_dict_list)"
   ]
  },
  {
   "cell_type": "markdown",
   "metadata": {},
   "source": [
    "### Other topics"
   ]
  },
  {
   "cell_type": "code",
   "execution_count": null,
   "metadata": {},
   "outputs": [],
   "source": [
    "other_topics = find_columns(data, \"^(?!mobile|input|invitation|online|paradata).*\")"
   ]
  },
  {
   "cell_type": "markdown",
   "metadata": {},
   "source": [
    "This is the end of the file. Further analyses not presented in the paper, can be found in the notebok 2.0-jl-qualitative-meta-analysis-of-research-results."
   ]
  }
 ],
 "metadata": {
  "kernelspec": {
   "display_name": "Python 3 (ipykernel)",
   "language": "python",
   "name": "python3"
  },
  "language_info": {
   "codemirror_mode": {
    "name": "ipython",
    "version": 3
   },
   "file_extension": ".py",
   "mimetype": "text/x-python",
   "name": "python",
   "nbconvert_exporter": "python",
   "pygments_lexer": "ipython3",
   "version": "3.8.12"
  }
 },
 "nbformat": 4,
 "nbformat_minor": 1
}
