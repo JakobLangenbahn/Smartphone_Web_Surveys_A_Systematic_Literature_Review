{
 "cells": [
  {
   "cell_type": "code",
   "execution_count": 35,
   "metadata": {},
   "outputs": [],
   "source": [
    "import pandas as pd"
   ]
  },
  {
   "cell_type": "code",
   "execution_count": 36,
   "metadata": {},
   "outputs": [],
   "source": [
    "df = pd.read_json(\"../data/raw/literature_coding_results.json\", orient = \"records\")"
   ]
  },
  {
   "cell_type": "code",
   "execution_count": 41,
   "metadata": {},
   "outputs": [
    {
     "data": {
      "text/plain": [
       "0                                   Survey Participants\n",
       "1                                         Survey Design\n",
       "2                                          Data Quality\n",
       "6        [Passive Data Collection, Survey Participants]\n",
       "7                    [Data Quality, Survey Participant]\n",
       "11                                  General Development\n",
       "12                     [Invitation Mode, Survey Design]\n",
       "13                     [Survey Design, Invitation Mode]\n",
       "26                                     Inivitation Mode\n",
       "51                  [Survey Participants, Data Quality]\n",
       "56                                    Alternative Input\n",
       "67    [Invitation Mode, Survey Participants, Data Qu...\n",
       "71                                    Alternative Input\n",
       "84               [Survey Participants, Invitation Mode]\n",
       "Name: article_topic, dtype: object"
      ]
     },
     "execution_count": 41,
     "metadata": {},
     "output_type": "execute_result"
    }
   ],
   "source": [
    "df.article_topic.drop_duplicates()"
   ]
  },
  {
   "cell_type": "code",
   "execution_count": 48,
   "metadata": {},
   "outputs": [
    {
     "ename": "ValueError",
     "evalue": "The truth value of a Series is ambiguous. Use a.empty, a.bool(), a.item(), a.any() or a.all().",
     "output_type": "error",
     "traceback": [
      "\u001B[0;31m---------------------------------------------------------------------------\u001B[0m",
      "\u001B[0;31mValueError\u001B[0m                                Traceback (most recent call last)",
      "\u001B[0;32m/var/folders/zx/r0fw_tq95g13lvmt5x8bp_vr0000gn/T/ipykernel_82220/2084060740.py\u001B[0m in \u001B[0;36m<module>\u001B[0;34m\u001B[0m\n\u001B[0;32m----> 1\u001B[0;31m \u001B[0mdf_data_quality\u001B[0m \u001B[0;34m=\u001B[0m \u001B[0mdf\u001B[0m\u001B[0;34m[\u001B[0m\u001B[0mdf\u001B[0m\u001B[0;34m.\u001B[0m\u001B[0marticle_topic\u001B[0m \u001B[0;32min\u001B[0m \u001B[0;34m[\u001B[0m\u001B[0;34m\"Data Quality\"\u001B[0m\u001B[0;34m,\u001B[0m \u001B[0;34m\"[Data Quality, Survey Participant]\"\u001B[0m\u001B[0;34m,\u001B[0m \u001B[0;34m\"[Survey Participants, Data Quality]\"\u001B[0m\u001B[0;34m,\u001B[0m \u001B[0;34m\"[Invitation Mode, Survey Participants, Data Quality]\"\u001B[0m\u001B[0;34m]\u001B[0m\u001B[0;34m]\u001B[0m\u001B[0;34m\u001B[0m\u001B[0;34m\u001B[0m\u001B[0m\n\u001B[0m",
      "\u001B[0;32m~/opt/miniconda3/envs/amca/lib/python3.8/site-packages/pandas/core/generic.py\u001B[0m in \u001B[0;36m__nonzero__\u001B[0;34m(self)\u001B[0m\n\u001B[1;32m   1535\u001B[0m     \u001B[0;34m@\u001B[0m\u001B[0mfinal\u001B[0m\u001B[0;34m\u001B[0m\u001B[0;34m\u001B[0m\u001B[0m\n\u001B[1;32m   1536\u001B[0m     \u001B[0;32mdef\u001B[0m \u001B[0m__nonzero__\u001B[0m\u001B[0;34m(\u001B[0m\u001B[0mself\u001B[0m\u001B[0;34m)\u001B[0m\u001B[0;34m:\u001B[0m\u001B[0;34m\u001B[0m\u001B[0;34m\u001B[0m\u001B[0m\n\u001B[0;32m-> 1537\u001B[0;31m         raise ValueError(\n\u001B[0m\u001B[1;32m   1538\u001B[0m             \u001B[0;34mf\"The truth value of a {type(self).__name__} is ambiguous. \"\u001B[0m\u001B[0;34m\u001B[0m\u001B[0;34m\u001B[0m\u001B[0m\n\u001B[1;32m   1539\u001B[0m             \u001B[0;34m\"Use a.empty, a.bool(), a.item(), a.any() or a.all().\"\u001B[0m\u001B[0;34m\u001B[0m\u001B[0;34m\u001B[0m\u001B[0m\n",
      "\u001B[0;31mValueError\u001B[0m: The truth value of a Series is ambiguous. Use a.empty, a.bool(), a.item(), a.any() or a.all()."
     ]
    }
   ],
   "source": [
    "df_data_quality = df[df.article_topic in [\"Data Quality\", \"[Data Quality, Survey Participant]\", \"[Survey Participants, Data Quality]\", \"[Invitation Mode, Survey Participants, Data Quality]\"]]"
   ]
  },
  {
   "cell_type": "code",
   "execution_count": 38,
   "metadata": {},
   "outputs": [
    {
     "data": {
      "text/plain": [
       "0                                       European Adults\n",
       "1                                       American Adults\n",
       "2                                 Dutch-speaking Adults\n",
       "3                         Russian Mobile Web User (18+)\n",
       "5                                                   NaN\n",
       "7                             Dutch Internet User (18+)\n",
       "8                                          Dutch Adults\n",
       "9                                          iPhone Owner\n",
       "13                                       Russian Adults\n",
       "14                           German Internet User (18+)\n",
       "17                                        German Adults\n",
       "21                                             Students\n",
       "22                             Alumni of Arts Education\n",
       "27                                       Spanish Adults\n",
       "28                              Spanish Speaking Adults\n",
       "29                Spanish Adults with PC and Smartphone\n",
       "30                                    Adult IPhone User\n",
       "31    American Adults who regularly interact with yo...\n",
       "34                        Adults Smartphone and PC User\n",
       "37                   Adults that want to purchase a car\n",
       "40                               60-75 Years old People\n",
       "43                                Mobile Internet User \n",
       "45                           Adult Household Population\n",
       "46                  Adults with Access to Mobile and PC\n",
       "47                                  Adult Internet User\n",
       "49                                  Dutch older than 15\n",
       "50    Person aged 60-75 with at least 1 year experie...\n",
       "55                                     Norwegian Adults\n",
       "56                   Millenials (16-34) with Smartphone\n",
       "65                                        Norway Adults\n",
       "66                                           Practioner\n",
       "69                                 British Adults (16+)\n",
       "71                               Adults with Smartphone\n",
       "72                                Germans older than 15\n",
       "75              People older 25 interested in insurance\n",
       "78                   Spainish People (16+) with Android\n",
       "79            Refugee Adults speaking Arabic or English\n",
       "82                                16-34 with smartphone\n",
       "85           [American Leisure Tourist, Chinese Adults]\n",
       "Name: survey_population, dtype: object"
      ]
     },
     "execution_count": 38,
     "metadata": {},
     "output_type": "execute_result"
    }
   ],
   "source": [
    "df.survey_population.drop_duplicates()"
   ]
  },
  {
   "cell_type": "code",
   "execution_count": null,
   "metadata": {},
   "outputs": [],
   "source": []
  }
 ],
 "metadata": {
  "kernelspec": {
   "display_name": "Python 3 (ipykernel)",
   "language": "python",
   "name": "python3"
  },
  "language_info": {
   "codemirror_mode": {
    "name": "ipython",
    "version": 3
   },
   "file_extension": ".py",
   "mimetype": "text/x-python",
   "name": "python",
   "nbconvert_exporter": "python",
   "pygments_lexer": "ipython3",
   "version": "3.8.12"
  }
 },
 "nbformat": 4,
 "nbformat_minor": 1
}