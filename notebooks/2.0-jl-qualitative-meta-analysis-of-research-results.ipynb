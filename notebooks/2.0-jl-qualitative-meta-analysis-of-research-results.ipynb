{
 "cells": [
  {
   "cell_type": "markdown",
   "id": "f13d1aaa",
   "metadata": {},
   "source": [
    "# Meta Analysis of selected categories identified the systematic literature review"
   ]
  },
  {
   "cell_type": "markdown",
   "id": "0595413d",
   "metadata": {},
   "source": [
    "In this file we showcase how the coded data from the literature review could be used to do an quantitative meta analysis. The results are not presented in the final work."
   ]
  },
  {
   "cell_type": "markdown",
   "id": "0252575c",
   "metadata": {},
   "source": [
    "## Important data"
   ]
  },
  {
   "cell_type": "code",
   "execution_count": null,
   "id": "3bae7fb6",
   "metadata": {},
   "outputs": [],
   "source": [
    "import pandas as pd\n",
    "\n",
    "from src.data.make_dataset import create_data_set\n",
    "from src.features.build_features import analyse_dimension"
   ]
  },
  {
   "cell_type": "code",
   "execution_count": null,
   "id": "985ef46c",
   "metadata": {},
   "outputs": [],
   "source": [
    "data = pd.read_csv(\"../data/interim/combined_data.csv\")"
   ]
  },
  {
   "cell_type": "markdown",
   "id": "32b9512f",
   "metadata": {},
   "source": [
    "## Meta Analysis Data Quality"
   ]
  },
  {
   "cell_type": "markdown",
   "id": "11a4b4d4",
   "metadata": {},
   "source": [
    "### Identify dimensions for analysis"
   ]
  },
  {
   "cell_type": "code",
   "execution_count": null,
   "id": "2ae11c5d",
   "metadata": {},
   "outputs": [],
   "source": [
    "import re \n",
    "\n",
    "def identify_dimensions(data, regex):\n",
    "    columns = [x for x in data.columns.tolist() if re.match(regex, x)] \n",
    "    count = data[columns].count().sort_values(ascending = False)\n",
    "    return count[count >= 5]"
   ]
  },
  {
   "cell_type": "code",
   "execution_count": null,
   "id": "0b1f659a",
   "metadata": {},
   "outputs": [],
   "source": [
    "identify_dimensions(data, \"mobile_(?!participant|design).*\")"
   ]
  },
  {
   "cell_type": "code",
   "execution_count": null,
   "id": "cd1c8152",
   "metadata": {},
   "outputs": [],
   "source": [
    "identify_dimensions(data, \"mobile_participants_.*\")"
   ]
  },
  {
   "cell_type": "markdown",
   "id": "50cae2a2",
   "metadata": {},
   "source": [
    "### Examplary meta analysis"
   ]
  },
  {
   "cell_type": "markdown",
   "id": "050e8f1b",
   "metadata": {},
   "source": [
    "#### Completion time"
   ]
  },
  {
   "cell_type": "code",
   "execution_count": null,
   "id": "05137897",
   "metadata": {},
   "outputs": [],
   "source": [
    "completion_time = create_data_set(data, \"mobile_completion_time_higher\")"
   ]
  },
  {
   "cell_type": "code",
   "execution_count": null,
   "id": "a294b7e2",
   "metadata": {},
   "outputs": [],
   "source": [
    "analyse_dimension(data, \"mobile_completion_time_higher\")"
   ]
  },
  {
   "cell_type": "markdown",
   "id": "a4c0c6ff",
   "metadata": {},
   "source": [
    "Our first research focus is the completion time of surveys on mobile phones compared to personal computers. In 21 surveys, there was statistically significant evidence that completion time is higher on mobile devices than on personal computers. In eight surveys, this hypothesis could not be verified. The evidence for the longest completion time of the survey on the smartphone is substantial. However, an interesting observation is that we could not verify the hypothesis for all surveys, where we know if they are optimised for mobile survey taking. This observation could indicate a change in completion time if the surveys are better designed for mobile devices."
   ]
  },
  {
   "cell_type": "markdown",
   "id": "0ab85de1",
   "metadata": {},
   "source": [
    "#### Breakoff rate"
   ]
  },
  {
   "cell_type": "code",
   "execution_count": null,
   "id": "bf5aaa37",
   "metadata": {},
   "outputs": [],
   "source": [
    "breakoff_rate = create_data_set(data, \"mobile_breakoff_rate_higher\")"
   ]
  },
  {
   "cell_type": "code",
   "execution_count": null,
   "id": "06a988aa",
   "metadata": {},
   "outputs": [],
   "source": [
    "analyse_dimension(data, \"mobile_breakoff_rate_higher\")"
   ]
  },
  {
   "cell_type": "markdown",
   "id": "186ad2b1",
   "metadata": {},
   "source": [
    "\n",
    "Secondly, we will analyse the Breakoff rate of mobile surveys compared to PC surveys. We can see that 7 of 10 articles could validate the hypothesis that the breakoff rate is significantly higher on a smartphone than on a PC. There were no obvious patterns of the survey setups that could not validate this hypothesis. So that we interpret the evidence to be accurate, this could be caused by more multitasking and other deviations for mobile users. Another theory could be the shorter attention span of a mobile user, which lead to faster frustration and, therefore, faster breakoff. Another important is optimising mobile survey taking again since this can reduce the breakoff rate. "
   ]
  },
  {
   "cell_type": "markdown",
   "id": "3b2b2e38",
   "metadata": {},
   "source": [
    "#### Missing item rate"
   ]
  },
  {
   "cell_type": "code",
   "execution_count": null,
   "id": "2ec1ebe1",
   "metadata": {},
   "outputs": [],
   "source": [
    "missing_item_rate = create_data_set(data, \"mobile_missing_items_rate_higher\")"
   ]
  },
  {
   "cell_type": "code",
   "execution_count": null,
   "id": "fd8c378d",
   "metadata": {},
   "outputs": [],
   "source": [
    "analyse_dimension(data, \"mobile_missing_items_rate_higher\")"
   ]
  },
  {
   "cell_type": "markdown",
   "id": "656e2372",
   "metadata": {},
   "source": [
    "A third point is the missing items. We want to investigate the hypothesis that the rate of the missing item is higher on surveys taken on smartphones than on PC. We found mixed evidence for this hypothesis as five times the hypothesis was not supported and six times the hypothesis was supported. An interesting pattern is observable in the countries of survey operation. We have Germany and Netherland, where the hypothesis was two times validated, and Spain and USA, where the hypothesis was validated and not supported. In South Korea and the UK, it was not supported. This result could indicate a dependence on the users' country and mobile device sophistication. This theory would need more research."
   ]
  },
  {
   "cell_type": "markdown",
   "id": "934aa2d7",
   "metadata": {},
   "source": [
    "#### Age of mobile participants"
   ]
  },
  {
   "cell_type": "code",
   "execution_count": null,
   "id": "824e1a4b",
   "metadata": {},
   "outputs": [],
   "source": [
    "age = create_data_set(data, \"mobile_participants_younger\")"
   ]
  },
  {
   "cell_type": "code",
   "execution_count": null,
   "id": "498777d5",
   "metadata": {},
   "outputs": [],
   "source": [
    "analyse_dimension(data, \"mobile_participants_younger\")"
   ]
  },
  {
   "cell_type": "markdown",
   "id": "2ccfad1e",
   "metadata": {},
   "source": [
    "Another one is the age of mobile participants. There is strong evidence that people who decide to access online surveys via smartphone are younger than people who have a PC. 13 Survey could support this hypothesis, and only one could not support this. This result seems to fit the general trend of higher smartphone usage by younger adults."
   ]
  },
  {
   "cell_type": "markdown",
   "id": "ed7a9b1b",
   "metadata": {},
   "source": [
    "#### Gender of mobile user"
   ]
  },
  {
   "cell_type": "code",
   "execution_count": null,
   "id": "aa7c2492",
   "metadata": {},
   "outputs": [],
   "source": [
    "gender = create_data_set(data, \"mobile_participants_more_female\")"
   ]
  },
  {
   "cell_type": "code",
   "execution_count": null,
   "id": "b4d54601",
   "metadata": {},
   "outputs": [],
   "source": [
    "analyse_dimension(data, \"mobile_participants_more_female\")"
   ]
  },
  {
   "cell_type": "markdown",
   "id": "97f43524",
   "metadata": {},
   "source": [
    "When analysing the gender of the smartphone participants in web surveys, we have mixed results. Eight surveys could support the hypothesis that females use smartphones more often to access surveys online and, five could not support the hypothesis. Two surveys supported the hypothesis that more male users used smartphones to access surveys. While the evidence indicated more female than male users, it cannot be proven with statistical significance. We did not identify strong trends regarding countries or target groups. As the last survey was operated in 2017, these results need an update to adapt to current conditions. "
   ]
  },
  {
   "cell_type": "markdown",
   "id": "6fb61195",
   "metadata": {},
   "source": [
    "#### Education level of mobile user"
   ]
  },
  {
   "cell_type": "code",
   "execution_count": null,
   "id": "6799c8bc",
   "metadata": {},
   "outputs": [],
   "source": [
    "education = create_data_set(data, \"mobile_participant_education_higher\")"
   ]
  },
  {
   "cell_type": "code",
   "execution_count": null,
   "id": "7f78772b",
   "metadata": {},
   "outputs": [],
   "source": [
    "analyse_dimension(data, \"mobile_participant_education_higher\")"
   ]
  },
  {
   "cell_type": "markdown",
   "id": "22d6d62e",
   "metadata": {},
   "source": [
    "Another dimension we analyse is the education level of people using smartphones to access the online survey. We have four surveys that do not support the hypothesis and two that do not support this theory. We do not have enough data to find patterns in the operation terms of these surveys. It is not clear if this effect is still relevant, as the last survey was operated in 2015."
   ]
  },
  {
   "cell_type": "markdown",
   "id": "f1cbbc57",
   "metadata": {},
   "source": [
    "This section marks the end of the file. One could use the extracted results to extend the analysis to other categories or do a more quantitative meta-analysis. This project would be an endeavour for a subsequent research project."
   ]
  }
 ],
 "metadata": {
  "kernelspec": {
   "display_name": "Python 3 (ipykernel)",
   "language": "python",
   "name": "python3"
  },
  "language_info": {
   "codemirror_mode": {
    "name": "ipython",
    "version": 3
   },
   "file_extension": ".py",
   "mimetype": "text/x-python",
   "name": "python",
   "nbconvert_exporter": "python",
   "pygments_lexer": "ipython3",
   "version": "3.8.12"
  }
 },
 "nbformat": 4,
 "nbformat_minor": 5
}
