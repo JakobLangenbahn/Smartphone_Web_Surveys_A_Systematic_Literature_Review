{
 "cells": [
  {
   "cell_type": "markdown",
   "metadata": {},
   "source": [
    "# Analyze data"
   ]
  },
  {
   "cell_type": "markdown",
   "metadata": {},
   "source": [
    "## Import and merge data"
   ]
  },
  {
   "cell_type": "code",
   "execution_count": 1,
   "metadata": {},
   "outputs": [],
   "source": [
    "import pandas as pd"
   ]
  },
  {
   "cell_type": "code",
   "execution_count": 2,
   "metadata": {},
   "outputs": [],
   "source": [
    "# Metadata from Citations\n",
    "metadata_raw = pd.read_csv(\"../data/raw/literature_review_meta_data.csv\")"
   ]
  },
  {
   "cell_type": "code",
   "execution_count": 3,
   "metadata": {},
   "outputs": [],
   "source": [
    "metadata_columns_include = [\"Item Type\", \"Publication Year\", \"Author\", \"Title\", \"Publication Title\",\n",
    "                            \"Conference Name\"]"
   ]
  },
  {
   "cell_type": "code",
   "execution_count": 4,
   "metadata": {},
   "outputs": [],
   "source": [
    "metadata = metadata_raw[metadata_columns_include]"
   ]
  },
  {
   "cell_type": "code",
   "execution_count": 5,
   "metadata": {},
   "outputs": [
    {
     "data": {
      "text/html": [
       "<div>\n",
       "<style scoped>\n",
       "    .dataframe tbody tr th:only-of-type {\n",
       "        vertical-align: middle;\n",
       "    }\n",
       "\n",
       "    .dataframe tbody tr th {\n",
       "        vertical-align: top;\n",
       "    }\n",
       "\n",
       "    .dataframe thead th {\n",
       "        text-align: right;\n",
       "    }\n",
       "</style>\n",
       "<table border=\"1\" class=\"dataframe\">\n",
       "  <thead>\n",
       "    <tr style=\"text-align: right;\">\n",
       "      <th></th>\n",
       "      <th>Item Type</th>\n",
       "      <th>Publication Year</th>\n",
       "      <th>Author</th>\n",
       "      <th>Title</th>\n",
       "      <th>Publication Title</th>\n",
       "      <th>Conference Name</th>\n",
       "    </tr>\n",
       "  </thead>\n",
       "  <tbody>\n",
       "    <tr>\n",
       "      <th>0</th>\n",
       "      <td>journalArticle</td>\n",
       "      <td>2017</td>\n",
       "      <td>Revilla, Melanie; Toninelli, Daniele; Ochoa, C...</td>\n",
       "      <td>An experiment comparing grids and item-by-item...</td>\n",
       "      <td>Telematics &amp; Informatics</td>\n",
       "      <td>NaN</td>\n",
       "    </tr>\n",
       "    <tr>\n",
       "      <th>1</th>\n",
       "      <td>journalArticle</td>\n",
       "      <td>2019</td>\n",
       "      <td>Bosch, Oriol J.; Revilla, Melanie; Paura, Ezeq...</td>\n",
       "      <td>Answering Mobile Surveys With Images: An Explo...</td>\n",
       "      <td>Social Science Computer Review</td>\n",
       "      <td>NaN</td>\n",
       "    </tr>\n",
       "    <tr>\n",
       "      <th>2</th>\n",
       "      <td>journalArticle</td>\n",
       "      <td>2019</td>\n",
       "      <td>Ha, Louisa,; Zhang, Chenjie</td>\n",
       "      <td>Are computers better than smartphones for web ...</td>\n",
       "      <td>Online Information Review</td>\n",
       "      <td>NaN</td>\n",
       "    </tr>\n",
       "    <tr>\n",
       "      <th>3</th>\n",
       "      <td>journalArticle</td>\n",
       "      <td>2015</td>\n",
       "      <td>Buskirk, Trent D.</td>\n",
       "      <td>Are sliders too slick for surveys? An experime...</td>\n",
       "      <td>methods, data, analyses</td>\n",
       "      <td>NaN</td>\n",
       "    </tr>\n",
       "    <tr>\n",
       "      <th>4</th>\n",
       "      <td>journalArticle</td>\n",
       "      <td>2017</td>\n",
       "      <td>Revilla, Melanie</td>\n",
       "      <td>Are There Differences Depending on the Device ...</td>\n",
       "      <td>Field methods</td>\n",
       "      <td>NaN</td>\n",
       "    </tr>\n",
       "    <tr>\n",
       "      <th>...</th>\n",
       "      <td>...</td>\n",
       "      <td>...</td>\n",
       "      <td>...</td>\n",
       "      <td>...</td>\n",
       "      <td>...</td>\n",
       "      <td>...</td>\n",
       "    </tr>\n",
       "    <tr>\n",
       "      <th>81</th>\n",
       "      <td>journalArticle</td>\n",
       "      <td>2019</td>\n",
       "      <td>Grady, Rebecca H.; Greenspan, Rachel L.; Liu, ...</td>\n",
       "      <td>What Is the Best Size for Matrix-Style Questio...</td>\n",
       "      <td>Social Science Computer Review</td>\n",
       "      <td>NaN</td>\n",
       "    </tr>\n",
       "    <tr>\n",
       "      <th>82</th>\n",
       "      <td>journalArticle</td>\n",
       "      <td>2015</td>\n",
       "      <td>Wells, Tom</td>\n",
       "      <td>What market researchers should know about mobi...</td>\n",
       "      <td>International Journal of Market Research</td>\n",
       "      <td>NaN</td>\n",
       "    </tr>\n",
       "    <tr>\n",
       "      <th>83</th>\n",
       "      <td>journalArticle</td>\n",
       "      <td>2015</td>\n",
       "      <td>Steinbrecher, Markus; Roßmann, Joss; Blumensti...</td>\n",
       "      <td>Why Do Respondents Break Off Web Surveys and D...</td>\n",
       "      <td>International Journal of Public Opinion Research</td>\n",
       "      <td>NaN</td>\n",
       "    </tr>\n",
       "    <tr>\n",
       "      <th>84</th>\n",
       "      <td>journalArticle</td>\n",
       "      <td>2017</td>\n",
       "      <td>Couper, Mick P.; Peterson, Gregg J.</td>\n",
       "      <td>Why Do Web Surveys Take Longer on Smartphones?</td>\n",
       "      <td>Social Science Computer Review</td>\n",
       "      <td>NaN</td>\n",
       "    </tr>\n",
       "    <tr>\n",
       "      <th>85</th>\n",
       "      <td>journalArticle</td>\n",
       "      <td>2019</td>\n",
       "      <td>Wenz, Alexander,; Jackle, Annette; Couper, Mic...</td>\n",
       "      <td>Willingness to use mobile technologies for dat...</td>\n",
       "      <td>Survey Research Methods</td>\n",
       "      <td>NaN</td>\n",
       "    </tr>\n",
       "  </tbody>\n",
       "</table>\n",
       "<p>86 rows × 6 columns</p>\n",
       "</div>"
      ],
      "text/plain": [
       "         Item Type  Publication Year  \\\n",
       "0   journalArticle              2017   \n",
       "1   journalArticle              2019   \n",
       "2   journalArticle              2019   \n",
       "3   journalArticle              2015   \n",
       "4   journalArticle              2017   \n",
       "..             ...               ...   \n",
       "81  journalArticle              2019   \n",
       "82  journalArticle              2015   \n",
       "83  journalArticle              2015   \n",
       "84  journalArticle              2017   \n",
       "85  journalArticle              2019   \n",
       "\n",
       "                                               Author  \\\n",
       "0   Revilla, Melanie; Toninelli, Daniele; Ochoa, C...   \n",
       "1   Bosch, Oriol J.; Revilla, Melanie; Paura, Ezeq...   \n",
       "2                         Ha, Louisa,; Zhang, Chenjie   \n",
       "3                                   Buskirk, Trent D.   \n",
       "4                                    Revilla, Melanie   \n",
       "..                                                ...   \n",
       "81  Grady, Rebecca H.; Greenspan, Rachel L.; Liu, ...   \n",
       "82                                         Wells, Tom   \n",
       "83  Steinbrecher, Markus; Roßmann, Joss; Blumensti...   \n",
       "84                Couper, Mick P.; Peterson, Gregg J.   \n",
       "85  Wenz, Alexander,; Jackle, Annette; Couper, Mic...   \n",
       "\n",
       "                                                Title  \\\n",
       "0   An experiment comparing grids and item-by-item...   \n",
       "1   Answering Mobile Surveys With Images: An Explo...   \n",
       "2   Are computers better than smartphones for web ...   \n",
       "3   Are sliders too slick for surveys? An experime...   \n",
       "4   Are There Differences Depending on the Device ...   \n",
       "..                                                ...   \n",
       "81  What Is the Best Size for Matrix-Style Questio...   \n",
       "82  What market researchers should know about mobi...   \n",
       "83  Why Do Respondents Break Off Web Surveys and D...   \n",
       "84     Why Do Web Surveys Take Longer on Smartphones?   \n",
       "85  Willingness to use mobile technologies for dat...   \n",
       "\n",
       "                                   Publication Title Conference Name  \n",
       "0                           Telematics & Informatics             NaN  \n",
       "1                     Social Science Computer Review             NaN  \n",
       "2                          Online Information Review             NaN  \n",
       "3                            methods, data, analyses             NaN  \n",
       "4                                      Field methods             NaN  \n",
       "..                                               ...             ...  \n",
       "81                    Social Science Computer Review             NaN  \n",
       "82          International Journal of Market Research             NaN  \n",
       "83  International Journal of Public Opinion Research             NaN  \n",
       "84                    Social Science Computer Review             NaN  \n",
       "85                           Survey Research Methods             NaN  \n",
       "\n",
       "[86 rows x 6 columns]"
      ]
     },
     "execution_count": 5,
     "metadata": {},
     "output_type": "execute_result"
    }
   ],
   "source": [
    "metadata"
   ]
  },
  {
   "cell_type": "code",
   "execution_count": 6,
   "metadata": {},
   "outputs": [],
   "source": [
    "column_name = ['article_genre', 'article_year', 'article_author', 'article_name', 'article_journal', \n",
    "               'article_proceeding']"
   ]
  },
  {
   "cell_type": "code",
   "execution_count": 7,
   "metadata": {},
   "outputs": [],
   "source": [
    "metadata.columns = column_name"
   ]
  },
  {
   "cell_type": "code",
   "execution_count": 8,
   "metadata": {},
   "outputs": [],
   "source": [
    "# Coding results from literaturef\n",
    "data_raw = pd.read_excel(\"../data/raw/literature_coding_results.xlsx\")"
   ]
  },
  {
   "cell_type": "code",
   "execution_count": 9,
   "metadata": {},
   "outputs": [],
   "source": [
    "# Merge data\n",
    "data = pd.merge(metadata, data_raw, how = \"left\", on='article_name')"
   ]
  },
  {
   "cell_type": "code",
   "execution_count": 10,
   "metadata": {},
   "outputs": [
    {
     "data": {
      "text/html": [
       "<div>\n",
       "<style scoped>\n",
       "    .dataframe tbody tr th:only-of-type {\n",
       "        vertical-align: middle;\n",
       "    }\n",
       "\n",
       "    .dataframe tbody tr th {\n",
       "        vertical-align: top;\n",
       "    }\n",
       "\n",
       "    .dataframe thead th {\n",
       "        text-align: right;\n",
       "    }\n",
       "</style>\n",
       "<table border=\"1\" class=\"dataframe\">\n",
       "  <thead>\n",
       "    <tr style=\"text-align: right;\">\n",
       "      <th></th>\n",
       "      <th>article_genre</th>\n",
       "      <th>article_year</th>\n",
       "      <th>article_author</th>\n",
       "      <th>article_name</th>\n",
       "      <th>article_journal</th>\n",
       "      <th>article_proceeding</th>\n",
       "      <th>article_topic</th>\n",
       "      <th>article_type</th>\n",
       "      <th>survey_data</th>\n",
       "      <th>survey_country</th>\n",
       "      <th>...</th>\n",
       "      <th>mobile_design_emoji_request_decreases_completion_time</th>\n",
       "      <th>mobile_design_emoji_request_less_complex_survey</th>\n",
       "      <th>mobile_construct_validity</th>\n",
       "      <th>invitation_mode_rdd_sms_response_rate_low</th>\n",
       "      <th>mobile_participants_representative_not</th>\n",
       "      <th>mobile_participants_income_lower</th>\n",
       "      <th>mobile_participants_education_lower</th>\n",
       "      <th>mobile_scale_effects_more</th>\n",
       "      <th>mobile_design_measurement_invariance_decremental_scale</th>\n",
       "      <th>mobile_design_measurement_invariance_incremental_scale</th>\n",
       "    </tr>\n",
       "  </thead>\n",
       "  <tbody>\n",
       "    <tr>\n",
       "      <th>0</th>\n",
       "      <td>journalArticle</td>\n",
       "      <td>2017</td>\n",
       "      <td>Revilla, Melanie; Toninelli, Daniele; Ochoa, C...</td>\n",
       "      <td>An experiment comparing grids and item-by-item...</td>\n",
       "      <td>Telematics &amp; Informatics</td>\n",
       "      <td>NaN</td>\n",
       "      <td>Survey Design</td>\n",
       "      <td>Research Article</td>\n",
       "      <td>1.0</td>\n",
       "      <td>Spain</td>\n",
       "      <td>...</td>\n",
       "      <td>NaN</td>\n",
       "      <td>NaN</td>\n",
       "      <td>NaN</td>\n",
       "      <td>NaN</td>\n",
       "      <td>NaN</td>\n",
       "      <td>NaN</td>\n",
       "      <td>NaN</td>\n",
       "      <td>NaN</td>\n",
       "      <td>NaN</td>\n",
       "      <td>NaN</td>\n",
       "    </tr>\n",
       "    <tr>\n",
       "      <th>1</th>\n",
       "      <td>journalArticle</td>\n",
       "      <td>2019</td>\n",
       "      <td>Bosch, Oriol J.; Revilla, Melanie; Paura, Ezeq...</td>\n",
       "      <td>Answering Mobile Surveys With Images: An Explo...</td>\n",
       "      <td>Social Science Computer Review</td>\n",
       "      <td>NaN</td>\n",
       "      <td>Alternative Input</td>\n",
       "      <td>Research Article</td>\n",
       "      <td>1.0</td>\n",
       "      <td>['Spain', 'Mexico']</td>\n",
       "      <td>...</td>\n",
       "      <td>NaN</td>\n",
       "      <td>NaN</td>\n",
       "      <td>NaN</td>\n",
       "      <td>NaN</td>\n",
       "      <td>NaN</td>\n",
       "      <td>NaN</td>\n",
       "      <td>NaN</td>\n",
       "      <td>NaN</td>\n",
       "      <td>NaN</td>\n",
       "      <td>NaN</td>\n",
       "    </tr>\n",
       "    <tr>\n",
       "      <th>2</th>\n",
       "      <td>journalArticle</td>\n",
       "      <td>2019</td>\n",
       "      <td>Ha, Louisa,; Zhang, Chenjie</td>\n",
       "      <td>Are computers better than smartphones for web ...</td>\n",
       "      <td>Online Information Review</td>\n",
       "      <td>NaN</td>\n",
       "      <td>Data Quality</td>\n",
       "      <td>Research Article</td>\n",
       "      <td>1.0</td>\n",
       "      <td>USA</td>\n",
       "      <td>...</td>\n",
       "      <td>NaN</td>\n",
       "      <td>NaN</td>\n",
       "      <td>NaN</td>\n",
       "      <td>NaN</td>\n",
       "      <td>NaN</td>\n",
       "      <td>NaN</td>\n",
       "      <td>NaN</td>\n",
       "      <td>NaN</td>\n",
       "      <td>NaN</td>\n",
       "      <td>NaN</td>\n",
       "    </tr>\n",
       "    <tr>\n",
       "      <th>3</th>\n",
       "      <td>journalArticle</td>\n",
       "      <td>2015</td>\n",
       "      <td>Buskirk, Trent D.</td>\n",
       "      <td>Are sliders too slick for surveys? An experime...</td>\n",
       "      <td>methods, data, analyses</td>\n",
       "      <td>NaN</td>\n",
       "      <td>Survey Design</td>\n",
       "      <td>Research Article</td>\n",
       "      <td>1.0</td>\n",
       "      <td>USA</td>\n",
       "      <td>...</td>\n",
       "      <td>NaN</td>\n",
       "      <td>NaN</td>\n",
       "      <td>NaN</td>\n",
       "      <td>NaN</td>\n",
       "      <td>NaN</td>\n",
       "      <td>NaN</td>\n",
       "      <td>NaN</td>\n",
       "      <td>NaN</td>\n",
       "      <td>NaN</td>\n",
       "      <td>NaN</td>\n",
       "    </tr>\n",
       "    <tr>\n",
       "      <th>4</th>\n",
       "      <td>journalArticle</td>\n",
       "      <td>2017</td>\n",
       "      <td>Revilla, Melanie</td>\n",
       "      <td>Are There Differences Depending on the Device ...</td>\n",
       "      <td>Field methods</td>\n",
       "      <td>NaN</td>\n",
       "      <td>Survey Design</td>\n",
       "      <td>Research Article</td>\n",
       "      <td>1.0</td>\n",
       "      <td>Spain</td>\n",
       "      <td>...</td>\n",
       "      <td>NaN</td>\n",
       "      <td>NaN</td>\n",
       "      <td>NaN</td>\n",
       "      <td>NaN</td>\n",
       "      <td>NaN</td>\n",
       "      <td>NaN</td>\n",
       "      <td>NaN</td>\n",
       "      <td>NaN</td>\n",
       "      <td>NaN</td>\n",
       "      <td>NaN</td>\n",
       "    </tr>\n",
       "    <tr>\n",
       "      <th>...</th>\n",
       "      <td>...</td>\n",
       "      <td>...</td>\n",
       "      <td>...</td>\n",
       "      <td>...</td>\n",
       "      <td>...</td>\n",
       "      <td>...</td>\n",
       "      <td>...</td>\n",
       "      <td>...</td>\n",
       "      <td>...</td>\n",
       "      <td>...</td>\n",
       "      <td>...</td>\n",
       "      <td>...</td>\n",
       "      <td>...</td>\n",
       "      <td>...</td>\n",
       "      <td>...</td>\n",
       "      <td>...</td>\n",
       "      <td>...</td>\n",
       "      <td>...</td>\n",
       "      <td>...</td>\n",
       "      <td>...</td>\n",
       "      <td>...</td>\n",
       "    </tr>\n",
       "    <tr>\n",
       "      <th>81</th>\n",
       "      <td>journalArticle</td>\n",
       "      <td>2019</td>\n",
       "      <td>Grady, Rebecca H.; Greenspan, Rachel L.; Liu, ...</td>\n",
       "      <td>What Is the Best Size for Matrix-Style Questio...</td>\n",
       "      <td>Social Science Computer Review</td>\n",
       "      <td>NaN</td>\n",
       "      <td>Survey Design</td>\n",
       "      <td>Research Article</td>\n",
       "      <td>1.0</td>\n",
       "      <td>USA</td>\n",
       "      <td>...</td>\n",
       "      <td>NaN</td>\n",
       "      <td>NaN</td>\n",
       "      <td>NaN</td>\n",
       "      <td>NaN</td>\n",
       "      <td>NaN</td>\n",
       "      <td>NaN</td>\n",
       "      <td>NaN</td>\n",
       "      <td>NaN</td>\n",
       "      <td>NaN</td>\n",
       "      <td>NaN</td>\n",
       "    </tr>\n",
       "    <tr>\n",
       "      <th>82</th>\n",
       "      <td>journalArticle</td>\n",
       "      <td>2015</td>\n",
       "      <td>Wells, Tom</td>\n",
       "      <td>What market researchers should know about mobi...</td>\n",
       "      <td>International Journal of Market Research</td>\n",
       "      <td>NaN</td>\n",
       "      <td>General Development</td>\n",
       "      <td>Review</td>\n",
       "      <td>0.0</td>\n",
       "      <td>NaN</td>\n",
       "      <td>...</td>\n",
       "      <td>NaN</td>\n",
       "      <td>NaN</td>\n",
       "      <td>NaN</td>\n",
       "      <td>NaN</td>\n",
       "      <td>NaN</td>\n",
       "      <td>NaN</td>\n",
       "      <td>NaN</td>\n",
       "      <td>NaN</td>\n",
       "      <td>NaN</td>\n",
       "      <td>NaN</td>\n",
       "    </tr>\n",
       "    <tr>\n",
       "      <th>83</th>\n",
       "      <td>journalArticle</td>\n",
       "      <td>2015</td>\n",
       "      <td>Steinbrecher, Markus; Roßmann, Joss; Blumensti...</td>\n",
       "      <td>Why Do Respondents Break Off Web Surveys and D...</td>\n",
       "      <td>International Journal of Public Opinion Research</td>\n",
       "      <td>NaN</td>\n",
       "      <td>Data Quality</td>\n",
       "      <td>Research Article</td>\n",
       "      <td>1.0</td>\n",
       "      <td>Germany</td>\n",
       "      <td>...</td>\n",
       "      <td>NaN</td>\n",
       "      <td>NaN</td>\n",
       "      <td>NaN</td>\n",
       "      <td>NaN</td>\n",
       "      <td>NaN</td>\n",
       "      <td>NaN</td>\n",
       "      <td>NaN</td>\n",
       "      <td>NaN</td>\n",
       "      <td>NaN</td>\n",
       "      <td>NaN</td>\n",
       "    </tr>\n",
       "    <tr>\n",
       "      <th>84</th>\n",
       "      <td>journalArticle</td>\n",
       "      <td>2017</td>\n",
       "      <td>Couper, Mick P.; Peterson, Gregg J.</td>\n",
       "      <td>Why Do Web Surveys Take Longer on Smartphones?</td>\n",
       "      <td>Social Science Computer Review</td>\n",
       "      <td>NaN</td>\n",
       "      <td>Data Quality</td>\n",
       "      <td>['Review', 'Research Article']</td>\n",
       "      <td>1.0</td>\n",
       "      <td>USA</td>\n",
       "      <td>...</td>\n",
       "      <td>NaN</td>\n",
       "      <td>NaN</td>\n",
       "      <td>NaN</td>\n",
       "      <td>NaN</td>\n",
       "      <td>NaN</td>\n",
       "      <td>NaN</td>\n",
       "      <td>NaN</td>\n",
       "      <td>NaN</td>\n",
       "      <td>NaN</td>\n",
       "      <td>NaN</td>\n",
       "    </tr>\n",
       "    <tr>\n",
       "      <th>85</th>\n",
       "      <td>journalArticle</td>\n",
       "      <td>2019</td>\n",
       "      <td>Wenz, Alexander,; Jackle, Annette; Couper, Mic...</td>\n",
       "      <td>Willingness to use mobile technologies for dat...</td>\n",
       "      <td>Survey Research Methods</td>\n",
       "      <td>NaN</td>\n",
       "      <td>Survey Participants</td>\n",
       "      <td>Research Article</td>\n",
       "      <td>1.0</td>\n",
       "      <td>UK</td>\n",
       "      <td>...</td>\n",
       "      <td>NaN</td>\n",
       "      <td>NaN</td>\n",
       "      <td>NaN</td>\n",
       "      <td>NaN</td>\n",
       "      <td>NaN</td>\n",
       "      <td>NaN</td>\n",
       "      <td>NaN</td>\n",
       "      <td>NaN</td>\n",
       "      <td>NaN</td>\n",
       "      <td>NaN</td>\n",
       "    </tr>\n",
       "  </tbody>\n",
       "</table>\n",
       "<p>86 rows × 293 columns</p>\n",
       "</div>"
      ],
      "text/plain": [
       "     article_genre  article_year  \\\n",
       "0   journalArticle          2017   \n",
       "1   journalArticle          2019   \n",
       "2   journalArticle          2019   \n",
       "3   journalArticle          2015   \n",
       "4   journalArticle          2017   \n",
       "..             ...           ...   \n",
       "81  journalArticle          2019   \n",
       "82  journalArticle          2015   \n",
       "83  journalArticle          2015   \n",
       "84  journalArticle          2017   \n",
       "85  journalArticle          2019   \n",
       "\n",
       "                                       article_author  \\\n",
       "0   Revilla, Melanie; Toninelli, Daniele; Ochoa, C...   \n",
       "1   Bosch, Oriol J.; Revilla, Melanie; Paura, Ezeq...   \n",
       "2                         Ha, Louisa,; Zhang, Chenjie   \n",
       "3                                   Buskirk, Trent D.   \n",
       "4                                    Revilla, Melanie   \n",
       "..                                                ...   \n",
       "81  Grady, Rebecca H.; Greenspan, Rachel L.; Liu, ...   \n",
       "82                                         Wells, Tom   \n",
       "83  Steinbrecher, Markus; Roßmann, Joss; Blumensti...   \n",
       "84                Couper, Mick P.; Peterson, Gregg J.   \n",
       "85  Wenz, Alexander,; Jackle, Annette; Couper, Mic...   \n",
       "\n",
       "                                         article_name  \\\n",
       "0   An experiment comparing grids and item-by-item...   \n",
       "1   Answering Mobile Surveys With Images: An Explo...   \n",
       "2   Are computers better than smartphones for web ...   \n",
       "3   Are sliders too slick for surveys? An experime...   \n",
       "4   Are There Differences Depending on the Device ...   \n",
       "..                                                ...   \n",
       "81  What Is the Best Size for Matrix-Style Questio...   \n",
       "82  What market researchers should know about mobi...   \n",
       "83  Why Do Respondents Break Off Web Surveys and D...   \n",
       "84     Why Do Web Surveys Take Longer on Smartphones?   \n",
       "85  Willingness to use mobile technologies for dat...   \n",
       "\n",
       "                                     article_journal article_proceeding  \\\n",
       "0                           Telematics & Informatics                NaN   \n",
       "1                     Social Science Computer Review                NaN   \n",
       "2                          Online Information Review                NaN   \n",
       "3                            methods, data, analyses                NaN   \n",
       "4                                      Field methods                NaN   \n",
       "..                                               ...                ...   \n",
       "81                    Social Science Computer Review                NaN   \n",
       "82          International Journal of Market Research                NaN   \n",
       "83  International Journal of Public Opinion Research                NaN   \n",
       "84                    Social Science Computer Review                NaN   \n",
       "85                           Survey Research Methods                NaN   \n",
       "\n",
       "          article_topic                    article_type  survey_data  \\\n",
       "0         Survey Design                Research Article          1.0   \n",
       "1     Alternative Input                Research Article          1.0   \n",
       "2          Data Quality                Research Article          1.0   \n",
       "3         Survey Design                Research Article          1.0   \n",
       "4         Survey Design                Research Article          1.0   \n",
       "..                  ...                             ...          ...   \n",
       "81        Survey Design                Research Article          1.0   \n",
       "82  General Development                          Review          0.0   \n",
       "83         Data Quality                Research Article          1.0   \n",
       "84         Data Quality  ['Review', 'Research Article']          1.0   \n",
       "85  Survey Participants                Research Article          1.0   \n",
       "\n",
       "         survey_country  ...  \\\n",
       "0                 Spain  ...   \n",
       "1   ['Spain', 'Mexico']  ...   \n",
       "2                   USA  ...   \n",
       "3                   USA  ...   \n",
       "4                 Spain  ...   \n",
       "..                  ...  ...   \n",
       "81                  USA  ...   \n",
       "82                  NaN  ...   \n",
       "83              Germany  ...   \n",
       "84                  USA  ...   \n",
       "85                   UK  ...   \n",
       "\n",
       "   mobile_design_emoji_request_decreases_completion_time  \\\n",
       "0                                                 NaN      \n",
       "1                                                 NaN      \n",
       "2                                                 NaN      \n",
       "3                                                 NaN      \n",
       "4                                                 NaN      \n",
       "..                                                ...      \n",
       "81                                                NaN      \n",
       "82                                                NaN      \n",
       "83                                                NaN      \n",
       "84                                                NaN      \n",
       "85                                                NaN      \n",
       "\n",
       "   mobile_design_emoji_request_less_complex_survey mobile_construct_validity  \\\n",
       "0                                              NaN                       NaN   \n",
       "1                                              NaN                       NaN   \n",
       "2                                              NaN                       NaN   \n",
       "3                                              NaN                       NaN   \n",
       "4                                              NaN                       NaN   \n",
       "..                                             ...                       ...   \n",
       "81                                             NaN                       NaN   \n",
       "82                                             NaN                       NaN   \n",
       "83                                             NaN                       NaN   \n",
       "84                                             NaN                       NaN   \n",
       "85                                             NaN                       NaN   \n",
       "\n",
       "   invitation_mode_rdd_sms_response_rate_low  \\\n",
       "0                                        NaN   \n",
       "1                                        NaN   \n",
       "2                                        NaN   \n",
       "3                                        NaN   \n",
       "4                                        NaN   \n",
       "..                                       ...   \n",
       "81                                       NaN   \n",
       "82                                       NaN   \n",
       "83                                       NaN   \n",
       "84                                       NaN   \n",
       "85                                       NaN   \n",
       "\n",
       "   mobile_participants_representative_not  mobile_participants_income_lower  \\\n",
       "0                                     NaN                               NaN   \n",
       "1                                     NaN                               NaN   \n",
       "2                                     NaN                               NaN   \n",
       "3                                     NaN                               NaN   \n",
       "4                                     NaN                               NaN   \n",
       "..                                    ...                               ...   \n",
       "81                                    NaN                               NaN   \n",
       "82                                    NaN                               NaN   \n",
       "83                                    NaN                               NaN   \n",
       "84                                    NaN                               NaN   \n",
       "85                                    NaN                               NaN   \n",
       "\n",
       "    mobile_participants_education_lower  mobile_scale_effects_more  \\\n",
       "0                                   NaN                        NaN   \n",
       "1                                   NaN                        NaN   \n",
       "2                                   NaN                        NaN   \n",
       "3                                   NaN                        NaN   \n",
       "4                                   NaN                        NaN   \n",
       "..                                  ...                        ...   \n",
       "81                                  NaN                        NaN   \n",
       "82                                  NaN                        NaN   \n",
       "83                                  NaN                        NaN   \n",
       "84                                  NaN                        NaN   \n",
       "85                                  NaN                        NaN   \n",
       "\n",
       "    mobile_design_measurement_invariance_decremental_scale  \\\n",
       "0                                                 NaN        \n",
       "1                                                 NaN        \n",
       "2                                                 NaN        \n",
       "3                                                 NaN        \n",
       "4                                                 NaN        \n",
       "..                                                ...        \n",
       "81                                                NaN        \n",
       "82                                                NaN        \n",
       "83                                                NaN        \n",
       "84                                                NaN        \n",
       "85                                                NaN        \n",
       "\n",
       "    mobile_design_measurement_invariance_incremental_scale  \n",
       "0                                                 NaN       \n",
       "1                                                 NaN       \n",
       "2                                                 NaN       \n",
       "3                                                 NaN       \n",
       "4                                                 NaN       \n",
       "..                                                ...       \n",
       "81                                                NaN       \n",
       "82                                                NaN       \n",
       "83                                                NaN       \n",
       "84                                                NaN       \n",
       "85                                                NaN       \n",
       "\n",
       "[86 rows x 293 columns]"
      ]
     },
     "execution_count": 10,
     "metadata": {},
     "output_type": "execute_result"
    }
   ],
   "source": [
    "data"
   ]
  },
  {
   "cell_type": "markdown",
   "metadata": {},
   "source": [
    "## Analyze metadata"
   ]
  },
  {
   "cell_type": "markdown",
   "metadata": {},
   "source": [
    "### Type of Article"
   ]
  },
  {
   "cell_type": "code",
   "execution_count": 11,
   "metadata": {},
   "outputs": [
    {
     "data": {
      "text/plain": [
       "article_genre\n",
       "conferencePaper     2\n",
       "journalArticle     84\n",
       "dtype: int64"
      ]
     },
     "execution_count": 11,
     "metadata": {},
     "output_type": "execute_result"
    }
   ],
   "source": [
    "data.groupby(\"article_genre\").size()"
   ]
  },
  {
   "cell_type": "code",
   "execution_count": 12,
   "metadata": {},
   "outputs": [
    {
     "data": {
      "text/plain": [
       "survey_data\n",
       "0.0     7\n",
       "1.0    74\n",
       "dtype: int64"
      ]
     },
     "execution_count": 12,
     "metadata": {},
     "output_type": "execute_result"
    }
   ],
   "source": [
    "data.groupby(\"survey_data\").size()"
   ]
  },
  {
   "cell_type": "markdown",
   "metadata": {},
   "source": [
    "### Graphic Survey per Year"
   ]
  },
  {
   "cell_type": "code",
   "execution_count": 16,
   "metadata": {},
   "outputs": [],
   "source": [
    "data_survey_year = data[data.survey_year.notna()]"
   ]
  },
  {
   "cell_type": "code",
   "execution_count": 17,
   "metadata": {},
   "outputs": [
    {
     "data": {
      "text/plain": [
       "0.0958904109589041"
      ]
     },
     "execution_count": 17,
     "metadata": {},
     "output_type": "execute_result"
    }
   ],
   "source": [
    "7/73"
   ]
  },
  {
   "cell_type": "code",
   "execution_count": 18,
   "metadata": {},
   "outputs": [
    {
     "data": {
      "text/plain": [
       "survey_year\n",
       "2005.0     1\n",
       "2007.0     1\n",
       "2010.0     1\n",
       "2011.0     3\n",
       "2012.0     6\n",
       "2013.0     8\n",
       "2014.0     7\n",
       "2015.0    11\n",
       "2016.0     8\n",
       "2017.0     9\n",
       "2018.0     6\n",
       "2019.0     1\n",
       "dtype: int64"
      ]
     },
     "execution_count": 18,
     "metadata": {},
     "output_type": "execute_result"
    }
   ],
   "source": [
    "data_survey_year.groupby(\"survey_year\").size()"
   ]
  },
  {
   "cell_type": "code",
   "execution_count": 19,
   "metadata": {},
   "outputs": [
    {
     "data": {
      "text/plain": [
       "2014.5483870967741"
      ]
     },
     "execution_count": 19,
     "metadata": {},
     "output_type": "execute_result"
    }
   ],
   "source": [
    "data_survey_year.survey_year.mean()"
   ]
  },
  {
   "cell_type": "code",
   "execution_count": 20,
   "metadata": {},
   "outputs": [
    {
     "data": {
      "text/plain": [
       "article_year\n",
       "2009     1\n",
       "2010     1\n",
       "2013     3\n",
       "2014     6\n",
       "2015     5\n",
       "2016     4\n",
       "2017     6\n",
       "2018     8\n",
       "2019    13\n",
       "2020     7\n",
       "2021     8\n",
       "dtype: int64"
      ]
     },
     "execution_count": 20,
     "metadata": {},
     "output_type": "execute_result"
    }
   ],
   "source": [
    "data_survey_year.groupby(\"article_year\").size()"
   ]
  },
  {
   "cell_type": "code",
   "execution_count": 21,
   "metadata": {},
   "outputs": [
    {
     "data": {
      "text/plain": [
       "2017.4516129032259"
      ]
     },
     "execution_count": 21,
     "metadata": {},
     "output_type": "execute_result"
    }
   ],
   "source": [
    "data_survey_year[\"article_year\"].mean()"
   ]
  },
  {
   "cell_type": "code",
   "execution_count": 22,
   "metadata": {},
   "outputs": [
    {
     "data": {
      "text/plain": [
       "2.903225806451701"
      ]
     },
     "execution_count": 22,
     "metadata": {},
     "output_type": "execute_result"
    }
   ],
   "source": [
    "data_survey_year[\"article_year\"].mean()-data_survey_year.survey_year.mean()"
   ]
  },
  {
   "cell_type": "markdown",
   "metadata": {},
   "source": [
    "### Overview of Journal"
   ]
  },
  {
   "cell_type": "code",
   "execution_count": 23,
   "metadata": {},
   "outputs": [
    {
     "data": {
      "text/plain": [
       "article_name\n",
       "An experiment comparing grids and item-by-item formats in web surveys completed through PCs and smartphones.                         1\n",
       "Optimal Data Entry Designs in Mobile Web Surveys for Older Adults                                                                    1\n",
       "Slider Bars in Multi-Device Web Surveys                                                                                              1\n",
       "Simultaneous estimation of multiple sources of error in a smartphone-based survey                                                    1\n",
       "Shorter interviews, longer surveys Optimising the survey participant experience while accommodating ever expanding client demands    1\n",
       "                                                                                                                                    ..\n",
       "Experimentation for developing evidence-based ui standards of mobile survey questionnaires                                           1\n",
       "Experimental comparison of PC web, smartphone web, and telephone surveys in the new technology era                                   1\n",
       "Evaluation of an adapted design in a multi-device online panel: a DemoSCOPE case study                                               1\n",
       "Effects of Header Images on Different Devices in Web Surveys                                                                         1\n",
       "Willingness to use mobile technologies for data collection in a probability household panel                                          1\n",
       "Length: 86, dtype: int64"
      ]
     },
     "execution_count": 23,
     "metadata": {},
     "output_type": "execute_result"
    }
   ],
   "source": [
    "data.groupby(\"article_name\").size().sort_values(ascending=False)"
   ]
  },
  {
   "cell_type": "markdown",
   "metadata": {},
   "source": [
    "### Overview of authors"
   ]
  },
  {
   "cell_type": "code",
   "execution_count": 24,
   "metadata": {},
   "outputs": [
    {
     "name": "stdout",
     "output_type": "stream",
     "text": [
      "author\n",
      "Couper, Mick P.        15\n",
      "Revilla, Melanie       14\n",
      "Toepoel, Vera           8\n",
      "Lugtig, Peter           7\n",
      "Mavletova, Aigul        6\n",
      "Antoun, Christopher     6\n",
      "Bosch, Oriol J.         5\n",
      "De Bruijne, Marika      3\n",
      "Ochoa, Carlos           3\n",
      "Keusch, Florian         3\n",
      "Wang, Lin               3\n",
      "Buskirk, Trent D.       3\n",
      "Schlosser, Stephan      3\n",
      "Toninelli, Daniele      3\n",
      "Höhne, Jan K.           3\n",
      "Wijnant, Arnaud         3\n",
      "Roßmann, Joss           3\n",
      "Yan, Ting               3\n",
      "Gummer, Tobias          2\n",
      "Ha, Louisa,             2\n",
      "Katz, Jonathan          2\n",
      "Haan, Marieke           2\n",
      "Paura, Ezequiel         2\n",
      "Figueroa, Ivonne J.     2\n",
      "Falcone, Brian          2\n",
      "dtype: int64\n"
     ]
    }
   ],
   "source": [
    "authors = pd.DataFrame({\"author\":[j for i in metadata[\"article_author\"].str.split(\"; \") for j in i]})\n",
    "publication_per_author = authors.groupby(\"author\").size().sort_values(ascending = False)\n",
    "print(publication_per_author.head(25))"
   ]
  },
  {
   "cell_type": "markdown",
   "metadata": {},
   "source": [
    "### Overview of Countries"
   ]
  },
  {
   "cell_type": "code",
   "execution_count": 25,
   "metadata": {},
   "outputs": [
    {
     "data": {
      "text/plain": [
       "survey_country\n",
       "USA                                              20\n",
       "Germany                                          14\n",
       "Netherlands                                      11\n",
       "Spain                                             9\n",
       "Russia                                            5\n",
       "UK                                                2\n",
       "['Spain', 'Mexico']                               2\n",
       "European Union Member and Accession Countries     1\n",
       "Italy                                             1\n",
       "Norway                                            1\n",
       "Norwegia                                          1\n",
       "South Korea                                       1\n",
       "Spanish Speaking Countries                        1\n",
       "['China', 'USA']                                  1\n",
       "['UK', 'Australia', 'Canda']                      1\n",
       "dtype: int64"
      ]
     },
     "execution_count": 25,
     "metadata": {},
     "output_type": "execute_result"
    }
   ],
   "source": [
    "data.groupby(\"survey_country\").size().sort_values(ascending=False)"
   ]
  },
  {
   "cell_type": "code",
   "execution_count": 26,
   "metadata": {},
   "outputs": [],
   "source": [
    "countries = data.survey_country.values.tolist()"
   ]
  },
  {
   "cell_type": "code",
   "execution_count": 27,
   "metadata": {},
   "outputs": [],
   "source": [
    "# We add countries that are part of multiple countries surveys\n",
    "countries_to_add = [\"China\", \"USA\", \"Spain\", \"Mexico\",\"Spain\", \"Mexico\", \"UK\", \"Australia\", \"Canada\", \"Norway\"]\n",
    "countries_to_drop = [\"European Union Member and Accession Countries\",\"['China', 'USA']\", \"['Spain', 'Mexico']\",\n",
    "                     \"['UK', 'Australia', 'Canda']\", \"Spanish Speaking Countries\", \"Norwegia\"]  "
   ]
  },
  {
   "cell_type": "code",
   "execution_count": 28,
   "metadata": {},
   "outputs": [],
   "source": [
    "countries_complete = countries + countries_to_add "
   ]
  },
  {
   "cell_type": "code",
   "execution_count": 29,
   "metadata": {},
   "outputs": [],
   "source": [
    "countries_for_count = [country for country in countries_complete if country not in countries_to_drop]"
   ]
  },
  {
   "cell_type": "code",
   "execution_count": 30,
   "metadata": {},
   "outputs": [],
   "source": [
    "country_count = pd.DataFrame({\"Country\":countries_for_count}).groupby(\"Country\").size()\n",
    "country_count_df = country_count.reset_index().rename(columns = {0: \"Count\"})"
   ]
  },
  {
   "cell_type": "code",
   "execution_count": 31,
   "metadata": {},
   "outputs": [],
   "source": [
    "country_count_df.replace({\"USA\": \"United States of America\",\n",
    "                          \"UK\": \" United Kingdom\"}, inplace = True)"
   ]
  },
  {
   "cell_type": "code",
   "execution_count": 32,
   "metadata": {},
   "outputs": [],
   "source": [
    "import geopandas as gpd\n",
    "import folium\n",
    "from matplotlib import cm\n",
    "import numpy as np"
   ]
  },
  {
   "cell_type": "code",
   "execution_count": 33,
   "metadata": {},
   "outputs": [],
   "source": [
    "world = gpd.read_file(gpd.datasets.get_path('naturalearth_lowres'))"
   ]
  },
  {
   "cell_type": "code",
   "execution_count": 34,
   "metadata": {},
   "outputs": [],
   "source": [
    "mapped = world.merge(country_count_df, how=\"left\", left_on=['name'], right_on=['Country'])\n",
    "mapped.fillna(0, inplace = True)"
   ]
  },
  {
   "cell_type": "code",
   "execution_count": 35,
   "metadata": {},
   "outputs": [],
   "source": [
    "cmap = cm.get_cmap(\"OrRd\")\n",
    "cmap.set_under(color = 'lightgrey')"
   ]
  },
  {
   "cell_type": "code",
   "execution_count": 36,
   "metadata": {},
   "outputs": [
    {
     "data": {
      "image/png": "[encoded data removed]",
      "text/plain": [
       "<Figure size 432x288 with 2 Axes>"
      ]
     },
     "metadata": {},
     "output_type": "display_data"
    }
   ],
   "source": [
    "from mpl_toolkits.axes_grid1 import make_axes_locatable\n",
    "\n",
    "fig, ax = plt.subplots(1, 1)\n",
    "\n",
    "divider = make_axes_locatable(ax)\n",
    "\n",
    "cax = divider.append_axes(\"right\", size=\"5%\", pad=0.1)\n",
    "\n",
    "plot_world = mapped.plot(column='Count',ax=ax, legend=True, cax=cax, cmap=cmap, vmin= 1)\n",
    "plot_world.figure.savefig('../reports/figures/surveys_per_country.png')"
   ]
  },
  {
   "cell_type": "markdown",
   "metadata": {},
   "source": [
    "### Survey Operator"
   ]
  },
  {
   "cell_type": "code",
   "execution_count": 37,
   "metadata": {},
   "outputs": [
    {
     "data": {
      "text/plain": [
       "survey_operator\n",
       "Author                                                                                                                                 14\n",
       "Netquest                                                                                                                               12\n",
       "CentERdata                                                                                                                              8\n",
       "Online Market Intelligence                                                                                                              5\n",
       "KnowledgePanel                                                                                                                          3\n",
       "GESIS                                                                                                                                   3\n",
       "German Longitudinal Election Study                                                                                                      3\n",
       "SurveyMonkey Audience                                                                                                                   2\n",
       "Amazon Mechanical Turk                                                                                                                  2\n",
       "Improving General Practice Service Survey                                                                                               1\n",
       "Kantar TNS                                                                                                                              1\n",
       "['Global Online Access Panel for commercial market and social research', 'Australian Panel', 'Global Online Survey Company Survey']     1\n",
       "['GfK Custom Research', 'FocusVision']                                                                                                  1\n",
       "Understanding Society Innovation Panel                                                                                                  1\n",
       "Sustainability Cultural Indicators Program                                                                                              1\n",
       "Dongguk University Student Life Survey                                                                                                  1\n",
       "Survey Sampling International Incorporated                                                                                              1\n",
       "Strategic National Arts Alumni Project                                                                                                  1\n",
       "Respondi                                                                                                                                1\n",
       "Research Now's US consumer e-rewards panel                                                                                              1\n",
       "PASS                                                                                                                                    1\n",
       "EuroQoL Research Foundation                                                                                                             1\n",
       "Norwegian Citizen Panel Wave                                                                                                            1\n",
       "Eurobarometer                                                                                                                           1\n",
       "LIG Study                                                                                                                               1\n",
       "I&O Research Panel                                                                                                                      1\n",
       "['Online Survey Company', 'Chinese Survey Company']                                                                                     1\n",
       "dtype: int64"
      ]
     },
     "execution_count": 37,
     "metadata": {},
     "output_type": "execute_result"
    }
   ],
   "source": [
    "data.groupby(\"survey_operator\").size().sort_values(ascending = False)"
   ]
  },
  {
   "cell_type": "markdown",
   "metadata": {},
   "source": [
    "### Research Topics"
   ]
  },
  {
   "cell_type": "code",
   "execution_count": 38,
   "metadata": {},
   "outputs": [],
   "source": [
    "import re"
   ]
  },
  {
   "cell_type": "code",
   "execution_count": 39,
   "metadata": {},
   "outputs": [],
   "source": [
    "def get_results(df, columns):\n",
    "    interesting_columns = [\"survey_year\",\"survey_participants_number\",\n",
    "                           \"survey_country\", \"survey_operator\",\n",
    "                           \"survey_population\",\"survey_design_mobile_adapted\", ]\n",
    "    df_columns = df[interesting_columns + columns]\n",
    "    df_of_interest = df_columns[df_columns[alternative_input].notna().any(axis = 1)]\n",
    "    return df_of_interest"
   ]
  },
  {
   "cell_type": "code",
   "execution_count": 40,
   "metadata": {},
   "outputs": [
    {
     "data": {
      "text/plain": [
       "48"
      ]
     },
     "execution_count": 40,
     "metadata": {},
     "output_type": "execute_result"
    }
   ],
   "source": [
    "survey_quality_indicator = [x for x in data.columns.tolist() if re.match(\"mobile_(?!participant|design).*\", x)] \n",
    "data[\"article_topic_survey_quality\"] = data[survey_quality_indicator].notna().any(axis = 1)\n",
    "data[\"article_topic_survey_quality\"].sum()"
   ]
  },
  {
   "cell_type": "code",
   "execution_count": 41,
   "metadata": {},
   "outputs": [
    {
     "data": {
      "text/plain": [
       "22"
      ]
     },
     "execution_count": 41,
     "metadata": {},
     "output_type": "execute_result"
    }
   ],
   "source": [
    "mobile_participants_indicator = [x for x in data.columns.tolist() if re.match(\"mobile_participant.*\", x)] \n",
    "data[\"article_topic_mobile_participants\"] = data[mobile_participants_indicator].notna().any(axis = 1)\n",
    "data[\"article_topic_mobile_participants\"].sum()"
   ]
  },
  {
   "cell_type": "code",
   "execution_count": 42,
   "metadata": {},
   "outputs": [
    {
     "data": {
      "text/plain": [
       "28"
      ]
     },
     "execution_count": 42,
     "metadata": {},
     "output_type": "execute_result"
    }
   ],
   "source": [
    "mobile_design_indicator = [x for x in data.columns.tolist() if re.match(\"mobile_design.*\", x)] \n",
    "data[\"article_topic_mobile_design\"] = data[mobile_design_indicator].notna().any(axis = 1)\n",
    "data[\"article_topic_mobile_design\"].sum()"
   ]
  },
  {
   "cell_type": "code",
   "execution_count": 43,
   "metadata": {},
   "outputs": [
    {
     "data": {
      "text/plain": [
       "6"
      ]
     },
     "execution_count": 43,
     "metadata": {},
     "output_type": "execute_result"
    }
   ],
   "source": [
    "alternative_input_indicator = [x for x in data.columns.tolist() if re.match(\"input_alternative.*\", x)] \n",
    "data[\"article_topic_alternative_input\"] = data[alternative_input_indicator].notna().any(axis = 1)\n",
    "data[\"article_topic_alternative_input\"].sum()"
   ]
  },
  {
   "cell_type": "code",
   "execution_count": 44,
   "metadata": {},
   "outputs": [
    {
     "data": {
      "text/plain": [
       "9"
      ]
     },
     "execution_count": 44,
     "metadata": {},
     "output_type": "execute_result"
    }
   ],
   "source": [
    "online_participants_indicator = [x for x in data.columns.tolist() if re.match(\"online_participant.*\", x)] \n",
    "data[\"article_topic_online_participants\"] = data[online_participants_indicator].notna().any(axis = 1)\n",
    "data[\"article_topic_online_participants\"].sum()"
   ]
  },
  {
   "cell_type": "code",
   "execution_count": 45,
   "metadata": {},
   "outputs": [
    {
     "data": {
      "text/plain": [
       "7"
      ]
     },
     "execution_count": 45,
     "metadata": {},
     "output_type": "execute_result"
    }
   ],
   "source": [
    "invitation_mode_indicator = [x for x in data.columns.tolist() if re.match(\"invitation_mode.*\", x)] \n",
    "data[\"article_topic_invitation_mode\"] = data[invitation_mode_indicator].notna().any(axis = 1)\n",
    "data[\"article_topic_invitation_mode\"].sum()"
   ]
  },
  {
   "cell_type": "code",
   "execution_count": 46,
   "metadata": {},
   "outputs": [
    {
     "data": {
      "text/plain": [
       "7"
      ]
     },
     "execution_count": 46,
     "metadata": {},
     "output_type": "execute_result"
    }
   ],
   "source": [
    "review_indicator = [x for x in data.columns.tolist() if re.match(\"review_.*\", x)] \n",
    "data[\"article_topic_review\"] = data[review_indicator].notna().any(axis = 1)\n",
    "data[\"article_topic_review\"].sum()"
   ]
  },
  {
   "cell_type": "markdown",
   "metadata": {},
   "source": [
    "### Graphic Publication per Year"
   ]
  },
  {
   "cell_type": "code",
   "execution_count": 13,
   "metadata": {},
   "outputs": [],
   "source": [
    "import matplotlib.pyplot as plt\n",
    "import seaborn as sns"
   ]
  },
  {
   "cell_type": "code",
   "execution_count": 82,
   "metadata": {},
   "outputs": [],
   "source": [
    "topic_dic = {\"Survey Quality\": \"article_topic_survey_quality\",\n",
    "             \"Mobile Participants\": \"article_topic_mobile_participants\",\n",
    "             \"Mobile Design\": \"article_topic_mobile_design\",\n",
    "             \"Input Alternative\": \"article_topic_alternative_input\",\n",
    "             \"Online Participants\": \"article_topic_online_participants\",\n",
    "             \"Invitation Mode\": \"article_topic_invitation_mode\",\n",
    "             \"Review\": \"article_topic_review\"}"
   ]
  },
  {
   "cell_type": "code",
   "execution_count": 113,
   "metadata": {},
   "outputs": [],
   "source": [
    "def create_visualisation_data(data, topic_dic):\n",
    "    def transform_into_vec(data, topic, name):\n",
    "        relevant_data = data[[\"article_year\", topic]][data[topic]]\n",
    "        relevant_data[\"Topic\"] = name\n",
    "        return relevant_data.drop(topic, axis = 1)\n",
    "    topic_df_list = []\n",
    "    for key in topic_dic:\n",
    "        topic_df_list.append(transform_into_vec(data, topic_dic[key], key))\n",
    "    all_articles = data[[\"article_year\"]]\n",
    "    all_articles[\"Topic\"] = \"All Publications\"\n",
    "    topic_df_list.append(all_articles)\n",
    "    result = pd.concat(topic_df_list).rename(columns = {\"article_year\": \"Year\"})\n",
    "    return result"
   ]
  },
  {
   "cell_type": "code",
   "execution_count": 120,
   "metadata": {},
   "outputs": [
    {
     "name": "stderr",
     "output_type": "stream",
     "text": [
      "/var/folders/zx/r0fw_tq95g13lvmt5x8bp_vr0000gn/T/ipykernel_39120/249209027.py:10: SettingWithCopyWarning: \n",
      "A value is trying to be set on a copy of a slice from a DataFrame.\n",
      "Try using .loc[row_indexer,col_indexer] = value instead\n",
      "\n",
      "See the caveats in the documentation: https://pandas.pydata.org/pandas-docs/stable/user_guide/indexing.html#returning-a-view-versus-a-copy\n",
      "  all_articles[\"Topic\"] = \"All Publications\"\n"
     ]
    }
   ],
   "source": [
    "# Prepare dataset\n",
    "category_per_year = create_visualisation_data(data, topic_dic)\n",
    "visualization_year_category = category_per_year.sort_values(\"Topic\").reset_index(drop = True).dropna()"
   ]
  },
  {
   "cell_type": "code",
   "execution_count": 157,
   "metadata": {},
   "outputs": [
    {
     "data": {
      "image/png": "[encoded data removed]",
      "text/plain": [
       "<Figure size 1080x1080 with 8 Axes>"
      ]
     },
     "metadata": {},
     "output_type": "display_data"
    }
   ],
   "source": [
    "sns.set_style('white')\n",
    "sns.set_context('paper', font_scale = 2)\n",
    "plot = sns.displot(data=visualization_year_category, x= \"Year\",bins = 14,\n",
    "            hue=\"Topic\", col = \"Topic\", col_wrap=3,legend = False, \n",
    "           )\n",
    "plt.subplots_adjust(wspace=0.2)\n",
    "plot.set_xticklabels(rotation=45)\n",
    "plot.set(xlim=(2009,2021),\n",
    "         xticks= (range(2009,2022)),\n",
    "         xticklabels=(range(2009,2022)))\n",
    "plot.savefig('../reports/figures/publications_per_year_per_categories.png')"
   ]
  },
  {
   "cell_type": "markdown",
   "metadata": {},
   "source": [
    "### Data Quality"
   ]
  },
  {
   "cell_type": "code",
   "execution_count": 47,
   "metadata": {},
   "outputs": [],
   "source": [
    "def create_data_set(df, topic):\n",
    "    interesting_columns = [\"survey_year\",\"survey_participants_number\",\n",
    "                           \"survey_country\", \"survey_operator\",\n",
    "                           \"survey_population\",\"survey_design_mobile_adapted\", ]\n",
    "    interesting_columns.append(topic)\n",
    "    df_columns = df[interesting_columns]\n",
    "    df_of_interest = df_columns[df_columns[topic].notna()]\n",
    "    write_location = \"../data/processed/\" + topic + \".xlsx\"\n",
    "    df_of_interest.to_excel(write_location, index=False)\n",
    "    return df_of_interest"
   ]
  },
  {
   "cell_type": "code",
   "execution_count": 48,
   "metadata": {},
   "outputs": [
    {
     "data": {
      "text/plain": [
       "['article_author',\n",
       " 'article_genre',\n",
       " 'article_journal',\n",
       " 'article_name',\n",
       " 'article_proceeding',\n",
       " 'article_topic',\n",
       " 'article_topic_alternative_input',\n",
       " 'article_topic_invitation_mode',\n",
       " 'article_topic_mobile_design',\n",
       " 'article_topic_mobile_participants',\n",
       " 'article_topic_online_participants',\n",
       " 'article_topic_review',\n",
       " 'article_topic_survey_quality',\n",
       " 'article_type',\n",
       " 'article_year',\n",
       " 'input_alternative_android_voice_higher_nonreponse_than_text',\n",
       " 'input_alternative_android_voice_less_valid_answers_than_text',\n",
       " 'input_alternative_android_voice_more_characters_than_text',\n",
       " 'input_alternative_android_voice_more_complicated_than_text',\n",
       " 'input_alternative_android_voice_more_techical_problems_than_text',\n",
       " 'input_alternative_android_voice_trust_anonymity_less_than_text',\n",
       " 'input_alternative_image_taking_lower_compliance_than_image_uploading',\n",
       " 'input_alternative_ios_voice_higher_nonreponse_than_text',\n",
       " 'input_alternative_ios_voice_less_characters_than_text',\n",
       " 'input_alternative_ios_voice_less_valid_answers_than_text',\n",
       " 'input_alternative_ios_voice_more_complicated_than_text',\n",
       " 'input_alternative_ios_voice_trust_anonymity_less_than_text',\n",
       " 'input_alternative_messenger_completion_rate_lower',\n",
       " 'input_alternative_messenger_completion_time_longer',\n",
       " 'input_alternative_messenger_shorter_text',\n",
       " 'input_alternative_moving_data_higher_motion_means_higher_completion_time_if_grid',\n",
       " 'input_alternative_moving_data_higher_motion_means_higher_completion_time_if_single_question',\n",
       " 'input_alternative_moving_data_higher_motion_means_higher_primacy_effect_if_grid',\n",
       " 'input_alternative_moving_data_higher_motion_means_higher_primacy_effect_if_single_question',\n",
       " 'input_alternative_moving_data_standing_less_extreme_values_than_walking',\n",
       " 'input_alternative_moving_data_standing_less_primacy_more_than_walking',\n",
       " 'input_alternative_moving_data_standing_more_middle_values_than_walking',\n",
       " 'input_alternative_moving_data_standing_more_recency_than_walking',\n",
       " 'input_alternative_moving_data_standing_motion_compliance_more_than_walking',\n",
       " 'input_alternative_not_clear_reasons_for_non_compliance_images',\n",
       " 'input_alternative_voice_different_instruction_reduce_technical_problems',\n",
       " 'input_alternative_voice_faster_per_character_than_text',\n",
       " 'invitation_mode_breakoff_rate_sms_invitation_higher',\n",
       " 'invitation_mode_mobile_participants_rate_sms_invitation_higher',\n",
       " 'invitation_mode_mobile_reponse_rate_sms_invitation_higher',\n",
       " 'invitation_mode_mobile_reponse_time_after_reminder_faster',\n",
       " 'invitation_mode_mobile_reponse_time_sms_invitation_shorter_than_e_mail_invitation',\n",
       " 'invitation_mode_optimized_letter_changes_age_structure',\n",
       " 'invitation_mode_optimized_letter_means_higher_mobile_reponses',\n",
       " 'invitation_mode_optimized_letter_means_higher_reponses',\n",
       " 'invitation_mode_rdd_sms_response_rate_low',\n",
       " 'invitation_mode_sms_inivitation_higher_mobile_participation',\n",
       " 'invitation_mode_sms_invitation_mobile_breakoff_rate_higher',\n",
       " 'mobile_acquiescence_more',\n",
       " 'mobile_anwser_changes_more',\n",
       " 'mobile_bias_image_presentation',\n",
       " 'mobile_bias_low_versus_high_frequency',\n",
       " 'mobile_bias_navigation_unwillingness',\n",
       " 'mobile_bias_need_for_scrolling',\n",
       " 'mobile_bias_single_versus_multiple_questions_on_page',\n",
       " 'mobile_bias_text_answer_avoiding',\n",
       " 'mobile_breakoff_rate_higher',\n",
       " 'mobile_check_all_that_apply_anwsers_less',\n",
       " 'mobile_completion_rate_close_ended_lower',\n",
       " 'mobile_completion_rate_lower',\n",
       " 'mobile_completion_rate_matrix_lower',\n",
       " 'mobile_completion_rate_open_questions_lower',\n",
       " 'mobile_completion_time_breakdown',\n",
       " 'mobile_completion_time_higher',\n",
       " 'mobile_completion_time_higher_subjective',\n",
       " 'mobile_completion_time_lower',\n",
       " 'mobile_completion_time_multiple_questions_higher',\n",
       " 'mobile_completion_time_text_anwser_higher',\n",
       " 'mobile_construct_validity',\n",
       " 'mobile_design_agree_disagree_shorter_completion_time_than_item_specific_question',\n",
       " 'mobile_design_always_on_next_button_data_quality_difference_to_two_columns',\n",
       " 'mobile_design_android_spinner_higher_satisfaction_than_radio_botton',\n",
       " 'mobile_design_android_spinner_longer_completion_time_than_radio_botton',\n",
       " 'mobile_design_android_spinner_lower_accuracy_than_radio_botton',\n",
       " 'mobile_design_date_picker_anwser_less_accurate',\n",
       " 'mobile_design_date_picker_less_successful_answers',\n",
       " 'mobile_design_emoji_different_mean_rating',\n",
       " 'mobile_design_emoji_different_satisfaction',\n",
       " 'mobile_design_emoji_preference_differs_between_countries',\n",
       " 'mobile_design_emoji_request_decreases_completion_time',\n",
       " 'mobile_design_emoji_request_increase_informatio_conveyed',\n",
       " 'mobile_design_emoji_request_less_complex_survey',\n",
       " 'mobile_design_emoji_usage_differs_between_countries',\n",
       " 'mobile_design_grid_versus_item_by_item_anwser_change_more',\n",
       " 'mobile_design_grid_versus_item_by_item_completion_time_shorter',\n",
       " 'mobile_design_grid_versus_item_by_item_correlation_more',\n",
       " 'mobile_design_grid_versus_item_by_item_failure_instruction_manipulation_check_more',\n",
       " 'mobile_design_grid_versus_item_by_item_lost_focus_less',\n",
       " 'mobile_design_grid_versus_item_by_item_non_differentiation_more',\n",
       " 'mobile_design_grid_versus_item_by_item_non_substantial_anwsers_more',\n",
       " 'mobile_design_grid_versus_item_by_item_straightlining_more',\n",
       " 'mobile_design_grid_versus_item_by_item_subjective_evaluation_lower',\n",
       " 'mobile_design_grid_versus_item_by_item_technical_difficulties_more',\n",
       " 'mobile_design_icon_navigation_versus_text_navigation_navigation_errors_more',\n",
       " 'mobile_design_icon_navigation_versus_text_navigation_reponse_time_first_try_slower',\n",
       " 'mobile_design_icon_navigation_versus_text_navigation_satisfaction_higher',\n",
       " 'mobile_design_image_effect_lower',\n",
       " 'mobile_design_ios_picker_longer_completion_time_than_radio_botton',\n",
       " 'mobile_design_ios_picker_lower_accuracy_than_radio_botton',\n",
       " 'mobile_design_ios_picker_versus_radio_botton_repondent_burden_higher',\n",
       " 'mobile_design_ios_picker_versus_radio_botton_satisfaction_higher',\n",
       " 'mobile_design_item_by_item_higher_number_of_columns_higher_dropout',\n",
       " 'mobile_design_item_by_item_higher_number_of_columns_higher_straightlining',\n",
       " 'mobile_design_item_by_item_higher_number_of_columns_higher_survey_rating',\n",
       " 'mobile_design_item_by_item_higher_number_of_rows_higher_dropout',\n",
       " 'mobile_design_item_by_item_higher_number_of_rows_higher_nonreponse',\n",
       " 'mobile_design_item_by_item_higher_number_of_rows_higher_straightlining',\n",
       " 'mobile_design_item_by_item_higher_number_of_rows_higher_survey_rating',\n",
       " 'mobile_design_layout_vertical_lower_item_nonresponse_than_horizontal',\n",
       " 'mobile_design_less_item_scrolling_shorter_completion_time',\n",
       " 'mobile_design_less_items_scrolling_higher_breakoff',\n",
       " 'mobile_design_measurement_invariance_decremental_scale',\n",
       " 'mobile_design_measurement_invariance_incremental_scale',\n",
       " 'mobile_design_modularization_increases_mobile_participation',\n",
       " 'mobile_design_more_correlation_in_grid_versus_one_at_a_time_presentation',\n",
       " 'mobile_design_next_bottom_always_visible_less_missing_data_than_not_always_visible',\n",
       " 'mobile_design_next_bottom_always_visible_lower_completion_time_than_not_always_visible',\n",
       " 'mobile_design_next_bottom_always_visible_more_missing-item',\n",
       " 'mobile_design_next_bottom_always_visible_shorter_completion_time',\n",
       " 'mobile_design_next_bottom_always_visible_with_columns_less_missing_data_than_not_always_visible',\n",
       " 'mobile_design_no_clear_effects_of_different_radio_button_alternatives',\n",
       " 'mobile_design_not_optimized_mobile_avoid_text_answer_more_than_optimized',\n",
       " 'mobile_design_not_optimized_mobile_completion_time_higher_than_optimized',\n",
       " 'mobile_design_not_optimized_mobile_less_text_than_optimized',\n",
       " 'mobile_design_not_optimized_mobile_non_substantial_anwser_more_than_optimized',\n",
       " 'mobile_design_one_column_data_quality_difference_to_two_columns',\n",
       " 'mobile_design_optimized_and_auto_forwarding_higher_satisfaction',\n",
       " 'mobile_design_optimized_and_auto_forwarding_shorter_reponse_time',\n",
       " 'mobile_design_optimized_online_higher_completion_rate',\n",
       " 'mobile_design_paging_higher_break_off_rate_than_scrolling',\n",
       " 'mobile_design_paging_higher_item_nonresponse_than_scrolling',\n",
       " 'mobile_design_paging_higher_primacy_effect_than_scrolling',\n",
       " 'mobile_design_paging_longer_completion_time_subjective_than_scrolling',\n",
       " 'mobile_design_paging_longer_completion_time_than_scrolling',\n",
       " 'mobile_design_paging_lower_item_nonreponse_than_scrolling',\n",
       " 'mobile_design_paging_lower_satisfaction_than_scrolling',\n",
       " 'mobile_design_paging_more_difficult_than_scrolling',\n",
       " 'mobile_design_questions_all_at_once_higher_completion_time',\n",
       " 'mobile_design_questions_all_at_once_higher_usability',\n",
       " 'mobile_design_questions_by_one_at_a_time_higher_completion_time',\n",
       " 'mobile_design_questions_by_one_at_a_time_higher_usability',\n",
       " 'mobile_design_questions_by_section_higher_completion_time',\n",
       " 'mobile_design_questions_by_section_higher_usability',\n",
       " 'mobile_design_recommendations',\n",
       " 'mobile_design_slider_anwser_less_accurate',\n",
       " 'mobile_design_slider_satisficing_higher',\n",
       " 'mobile_design_sliders_more_negative_evaluation_than_buttons',\n",
       " 'mobile_design_sliders_more_non_response_than_buttons',\n",
       " 'mobile_design_sliders_more_non_substantive_anwser_than_buttons',\n",
       " 'mobile_design_split_grid_into_different_questions_reduces_non_differentiation',\n",
       " 'mobile_design_split_questionnaire_design_more_accurate',\n",
       " 'mobile_design_standards',\n",
       " 'mobile_design_text_navigation_preferred_over_icon_navigation',\n",
       " 'mobile_design_two_columns_with_next_bottom_always_visible_less_missing_data_than_one_column',\n",
       " 'mobile_design_vertical_higher_primacy_effect_than_horizontal',\n",
       " 'mobile_design_vertical_longer_completion_time_than_horizontal',\n",
       " 'mobile_design_vertical_more_difficult_than_horizontal',\n",
       " 'mobile_design_video_able_to_view_less',\n",
       " 'mobile_design_visual_analogue_scales_more_negative_evaluation_than_buttons',\n",
       " 'mobile_design_visual_analogue_scales_more_non_response_than_buttons',\n",
       " 'mobile_design_visual_analogue_scales_more_non_substantive_anwser_than_buttons',\n",
       " 'mobile_device_less_powerful_deivce_higher_processing_time_than_more_powerful',\n",
       " 'mobile_device_less_powerful_deivce_higher_transmission_time_than_more_powerful',\n",
       " 'mobile_device_less_powerful_device_higher_completion_time_than_more_powerful',\n",
       " 'mobile_device_more_powerful_device_higher_completion_time',\n",
       " 'mobile_device_more_powerful_higher_processing_time',\n",
       " 'mobile_device_more_powerful_higher_transmission_time',\n",
       " 'mobile_device_type_influence_breakoff_rate',\n",
       " 'mobile_enjoyment_of_survey_less',\n",
       " 'mobile_error_rate_higher',\n",
       " 'mobile_estimates_biased_more',\n",
       " 'mobile_higher_survey_incentive_higher_participation',\n",
       " 'mobile_inconsistent_anwsers_more',\n",
       " 'mobile_instruction_manipulation_check_failure_more',\n",
       " 'mobile_inter_item_correlation_grid_more',\n",
       " 'mobile_joint_versus_seperate_evaluation_bias_more',\n",
       " 'mobile_left_aligned_options_choice_less',\n",
       " 'mobile_lost_focus_more',\n",
       " 'mobile_low_familarity_completion_time_higher',\n",
       " 'mobile_meaningfull_answers_less',\n",
       " 'mobile_measurement_quality_lower',\n",
       " 'mobile_midpoint_responding_more',\n",
       " 'mobile_missing_items_rate_higher',\n",
       " 'mobile_more_heaping',\n",
       " 'mobile_more_primacy',\n",
       " 'mobile_more_socially_undesirables_anwsers',\n",
       " 'mobile_motivated_underreporting_more',\n",
       " 'mobile_network_latency_higher',\n",
       " 'mobile_non_differentiated_answers_more',\n",
       " 'mobile_non_substantial_anwser_more',\n",
       " 'mobile_non_substantial_anwser_single_choice_more',\n",
       " 'mobile_numeric_label_smaller_impact_than_pc',\n",
       " 'mobile_order_by_click_different_results',\n",
       " 'mobile_participant_education_higher',\n",
       " 'mobile_participant_income_higher',\n",
       " 'mobile_participant_increasing',\n",
       " 'mobile_participant_more_non_white',\n",
       " 'mobile_participant_more_urban',\n",
       " 'mobile_participants_coverage_bias',\n",
       " 'mobile_participants_coverage_bias_weighting_elimated',\n",
       " 'mobile_participants_education_higher',\n",
       " 'mobile_participants_education_lower',\n",
       " 'mobile_participants_income_higher',\n",
       " 'mobile_participants_income_lower',\n",
       " 'mobile_participants_less_alone',\n",
       " 'mobile_participants_less_trust_in_confidentiality',\n",
       " 'mobile_participants_millenial_willing_to_use_emoji',\n",
       " 'mobile_participants_millenials_participate_more_mobile',\n",
       " 'mobile_participants_more_distracted',\n",
       " 'mobile_participants_more_female',\n",
       " 'mobile_participants_more_male',\n",
       " 'mobile_participants_more_mobile',\n",
       " 'mobile_participants_more_moving',\n",
       " 'mobile_participants_more_multitasking',\n",
       " 'mobile_participants_more_progressive',\n",
       " 'mobile_participants_more_stranger_present',\n",
       " 'mobile_participants_more_urban',\n",
       " 'mobile_participants_more_willing_passive_data_collection',\n",
       " 'mobile_participants_multiple_browser_sessions_more',\n",
       " 'mobile_participants_positive_asylum_decision_higher_participation',\n",
       " 'mobile_participants_representative_not',\n",
       " 'mobile_participants_sensitivity_perceived_higher',\n",
       " 'mobile_participants_social_class_higher',\n",
       " 'mobile_participants_younger',\n",
       " 'mobile_positive_evaluation_anwser_less',\n",
       " 'mobile_primacy_effect_higher',\n",
       " 'mobile_primacy_effect_higher_effect_categorical',\n",
       " 'mobile_processsing_time_higher',\n",
       " 'mobile_reponse_randomness_higher',\n",
       " 'mobile_reponse_rate_lower',\n",
       " 'mobile_response_later_on_day',\n",
       " 'mobile_response_order_bias_more',\n",
       " 'mobile_response_rate_complex_question_higher',\n",
       " 'mobile_response_time_faster',\n",
       " 'mobile_responses_multicoded_questions_less',\n",
       " 'mobile_results_different',\n",
       " 'mobile_satisfaction_lower',\n",
       " 'mobile_satisficing_check_box_more',\n",
       " 'mobile_scale_effects_more',\n",
       " 'mobile_scale_reliability_lower',\n",
       " 'mobile_scrolling_time_more',\n",
       " 'mobile_sensitive_questions_answering_less',\n",
       " 'mobile_sensitive_questions_answering_more',\n",
       " 'mobile_sensitive_questions_less_sensitive',\n",
       " 'mobile_sensitive_questions_less_uneasy',\n",
       " 'mobile_sensitive_questions_more_uneasy',\n",
       " 'mobile_socially_undesirable_answers_more',\n",
       " 'mobile_straightlining_less',\n",
       " 'mobile_straightlining_more',\n",
       " 'mobile_technical_difficulties_more',\n",
       " 'mobile_text_answer_avoid_more',\n",
       " 'mobile_text_answer_shorter',\n",
       " 'mobile_text_anwser_longer',\n",
       " 'mobile_text_response_nonrelevant_more',\n",
       " 'mobile_transmission_time_higher',\n",
       " 'mobile_unaceptably_short_anwser_less',\n",
       " 'mobile_usability_lower',\n",
       " 'mobile_willingness_rate_lower',\n",
       " 'online_participants_female_use_mobile_more',\n",
       " 'online_participants_female_willingness_use_mobile_higher',\n",
       " 'online_participants_higher_educated_willingness_use_mobile_higher',\n",
       " 'online_participants_higher_education_use_mobile_more',\n",
       " 'online_participants_higher_income_willingness_use_mobile_higher',\n",
       " 'online_participants_increasing_usage_of_smartphone',\n",
       " 'online_participants_insights',\n",
       " 'online_participants_lower_income_use_mobile_more',\n",
       " 'online_participants_male_more_android_than_female',\n",
       " 'online_participants_male_more_ios_than_female',\n",
       " 'online_participants_male_more_mobile_than_female ',\n",
       " 'online_participants_mobile_increasing',\n",
       " 'online_participants_more_educated_use_smartphone_more',\n",
       " 'online_participants_more_urban_use_mobile_more',\n",
       " 'online_participants_not_accepting_mobile_survey_older',\n",
       " 'online_participants_young_use_mobile_more',\n",
       " 'online_participants_younger_willingness_use_mobile_higher',\n",
       " 'review_current_research',\n",
       " 'review_data_quality',\n",
       " 'review_mobile_design',\n",
       " 'review_mobile_participants',\n",
       " 'survey_country',\n",
       " 'survey_data',\n",
       " 'survey_data_from_another_survey',\n",
       " 'survey_design_mobile_adapted',\n",
       " 'survey_incentive',\n",
       " 'survey_invitation_mode',\n",
       " 'survey_mode',\n",
       " 'survey_number_inivitations',\n",
       " 'survey_operator',\n",
       " 'survey_participants_number',\n",
       " 'survey_participants_number_mobile',\n",
       " 'survey_participants_representative',\n",
       " 'survey_participants_source',\n",
       " 'survey_population',\n",
       " 'survey_year',\n",
       " 'survey_year_detail']"
      ]
     },
     "execution_count": 48,
     "metadata": {},
     "output_type": "execute_result"
    }
   ],
   "source": [
    "columns = data.columns.tolist()\n",
    "columns.sort()\n",
    "columns"
   ]
  },
  {
   "cell_type": "markdown",
   "metadata": {},
   "source": [
    "#### Analyse Quality Dimensions"
   ]
  },
  {
   "cell_type": "code",
   "execution_count": 49,
   "metadata": {},
   "outputs": [],
   "source": [
    "quality_indicator = [x for x in data.columns.tolist() if re.match(\"mobile_(?!participant|design).*\", x)] \n",
    "quality_indicator.sort()"
   ]
  },
  {
   "cell_type": "code",
   "execution_count": 50,
   "metadata": {},
   "outputs": [
    {
     "data": {
      "text/plain": [
       "mobile_completion_time_higher         28\n",
       "mobile_breakoff_rate_higher           15\n",
       "mobile_missing_items_rate_higher      11\n",
       "mobile_text_answer_shorter            11\n",
       "mobile_text_answer_avoid_more          9\n",
       "mobile_straightlining_more             6\n",
       "mobile_non_substantial_anwser_more     5\n",
       "mobile_primacy_effect_higher           4\n",
       "mobile_satisfaction_lower              4\n",
       "mobile_completion_rate_lower           4\n",
       "dtype: int64"
      ]
     },
     "execution_count": 50,
     "metadata": {},
     "output_type": "execute_result"
    }
   ],
   "source": [
    "data[quality_indicator].count().sort_values(ascending = False).head(10)"
   ]
  },
  {
   "cell_type": "markdown",
   "metadata": {},
   "source": [
    "#### Analyze Completion Time"
   ]
  },
  {
   "cell_type": "code",
   "execution_count": 51,
   "metadata": {},
   "outputs": [],
   "source": [
    "completion_time = create_data_set(data, \"mobile_completion_time_higher\")"
   ]
  },
  {
   "cell_type": "code",
   "execution_count": 52,
   "metadata": {},
   "outputs": [],
   "source": [
    "def analyse_dimension(data, topic):\n",
    "    print(\"Summary of the hypothesis decisions\")\n",
    "    print(data.groupby(topic).size())\n",
    "    print(\"\\n\")\n",
    "    print(\"Summary of the influence of the survey country\")\n",
    "    print(pd.crosstab(data['survey_country'],data[topic],margins = False))\n",
    "    print(\"\\n\")\n",
    "    print(\"Summary of the influence of the survey operator\")\n",
    "    print(pd.crosstab(data['survey_operator'],data[topic],margins = False))\n",
    "    print(\"\\n\")\n",
    "    print(\"Summary of the influence of the survey year\")\n",
    "    print(pd.crosstab(data['survey_year'],data[topic],margins = False))\n",
    "    print(\"\\n\")\n",
    "    print(\"Summary of the influence of an design adapted for mobile devices\")\n",
    "    print(pd.crosstab(data['survey_design_mobile_adapted'],data[topic],margins = False))\n",
    "    print(\"\\n\")\n",
    "    print(\"Summary of the influence of the survey population\")\n",
    "    print(pd.crosstab(data['survey_population'],data[topic],margins = False))\n",
    "    print(\"\\n\")"
   ]
  },
  {
   "cell_type": "markdown",
   "metadata": {},
   "source": [
    "### Survey Participants"
   ]
  },
  {
   "cell_type": "code",
   "execution_count": 53,
   "metadata": {},
   "outputs": [
    {
     "data": {
      "text/plain": [
       "mobile_participants_younger                                          11\n",
       "mobile_participants_more_female                                      10\n",
       "mobile_participants_education_higher                                  6\n",
       "mobile_participants_more_mobile                                       5\n",
       "mobile_participants_income_higher                                     3\n",
       "mobile_participants_less_alone                                        3\n",
       "mobile_participants_more_male                                         2\n",
       "mobile_participants_more_urban                                        2\n",
       "mobile_participants_more_multitasking                                 2\n",
       "mobile_participants_coverage_bias                                     2\n",
       "mobile_participants_less_trust_in_confidentiality                     2\n",
       "mobile_participants_social_class_higher                               1\n",
       "mobile_participants_sensitivity_perceived_higher                      1\n",
       "mobile_participants_representative_not                                1\n",
       "mobile_participants_positive_asylum_decision_higher_participation     1\n",
       "mobile_participants_multiple_browser_sessions_more                    1\n",
       "mobile_participants_more_willing_passive_data_collection              1\n",
       "mobile_participants_more_stranger_present                             1\n",
       "mobile_participants_more_distracted                                   1\n",
       "mobile_participants_more_progressive                                  1\n",
       "mobile_participants_income_lower                                      1\n",
       "mobile_participants_more_moving                                       1\n",
       "mobile_participants_coverage_bias_weighting_elimated                  1\n",
       "mobile_participants_millenial_willing_to_use_emoji                    1\n",
       "mobile_participants_education_lower                                   1\n",
       "mobile_participants_millenials_participate_more_mobile                0\n",
       "dtype: int64"
      ]
     },
     "execution_count": 53,
     "metadata": {},
     "output_type": "execute_result"
    }
   ],
   "source": [
    "participants_indicator = [x for x in data.columns.tolist() if re.match(\"mobile_participants_.*\", x)] \n",
    "participants_indicator.sort()\n",
    "data[participants_indicator].count().sort_values(ascending = False).head(60)"
   ]
  },
  {
   "cell_type": "code",
   "execution_count": 54,
   "metadata": {
    "scrolled": true
   },
   "outputs": [
    {
     "data": {
      "text/plain": [
       "['mobile_participants_coverage_bias',\n",
       " 'mobile_participants_coverage_bias_weighting_elimated',\n",
       " 'mobile_participants_education_higher',\n",
       " 'mobile_participants_education_lower',\n",
       " 'mobile_participants_income_higher',\n",
       " 'mobile_participants_income_lower',\n",
       " 'mobile_participants_less_alone',\n",
       " 'mobile_participants_less_trust_in_confidentiality',\n",
       " 'mobile_participants_millenial_willing_to_use_emoji',\n",
       " 'mobile_participants_millenials_participate_more_mobile',\n",
       " 'mobile_participants_more_distracted',\n",
       " 'mobile_participants_more_female',\n",
       " 'mobile_participants_more_male',\n",
       " 'mobile_participants_more_mobile',\n",
       " 'mobile_participants_more_moving',\n",
       " 'mobile_participants_more_multitasking',\n",
       " 'mobile_participants_more_progressive',\n",
       " 'mobile_participants_more_stranger_present',\n",
       " 'mobile_participants_more_urban',\n",
       " 'mobile_participants_more_willing_passive_data_collection',\n",
       " 'mobile_participants_multiple_browser_sessions_more',\n",
       " 'mobile_participants_positive_asylum_decision_higher_participation',\n",
       " 'mobile_participants_representative_not',\n",
       " 'mobile_participants_sensitivity_perceived_higher',\n",
       " 'mobile_participants_social_class_higher',\n",
       " 'mobile_participants_younger']"
      ]
     },
     "execution_count": 54,
     "metadata": {},
     "output_type": "execute_result"
    }
   ],
   "source": [
    "participants_indicator"
   ]
  },
  {
   "cell_type": "markdown",
   "metadata": {},
   "source": [
    "### Online Participants"
   ]
  },
  {
   "cell_type": "code",
   "execution_count": 55,
   "metadata": {},
   "outputs": [],
   "source": [
    "online_participants_indicator = [x for x in data.columns.tolist() if re.match(\"online_participants_.*\", x)]\n",
    "online_participants_indicator.sort()"
   ]
  },
  {
   "cell_type": "code",
   "execution_count": 56,
   "metadata": {},
   "outputs": [
    {
     "data": {
      "text/plain": [
       "online_participants_young_use_mobile_more                            3\n",
       "online_participants_mobile_increasing                                2\n",
       "online_participants_female_use_mobile_more                           1\n",
       "online_participants_male_more_ios_than_female                        1\n",
       "online_participants_not_accepting_mobile_survey_older                1\n",
       "online_participants_more_urban_use_mobile_more                       1\n",
       "online_participants_more_educated_use_smartphone_more                1\n",
       "online_participants_male_more_mobile_than_female                     1\n",
       "online_participants_male_more_android_than_female                    1\n",
       "online_participants_female_willingness_use_mobile_higher             1\n",
       "online_participants_lower_income_use_mobile_more                     1\n",
       "online_participants_insights                                         1\n",
       "online_participants_increasing_usage_of_smartphone                   1\n",
       "online_participants_higher_income_willingness_use_mobile_higher      1\n",
       "online_participants_higher_education_use_mobile_more                 1\n",
       "online_participants_higher_educated_willingness_use_mobile_higher    1\n",
       "online_participants_younger_willingness_use_mobile_higher            1\n",
       "dtype: int64"
      ]
     },
     "execution_count": 56,
     "metadata": {},
     "output_type": "execute_result"
    }
   ],
   "source": [
    "data[online_participants_indicator].count().sort_values(ascending = False)"
   ]
  },
  {
   "cell_type": "code",
   "execution_count": 57,
   "metadata": {},
   "outputs": [
    {
     "data": {
      "text/plain": [
       "['online_participants_female_use_mobile_more',\n",
       " 'online_participants_female_willingness_use_mobile_higher',\n",
       " 'online_participants_higher_educated_willingness_use_mobile_higher',\n",
       " 'online_participants_higher_education_use_mobile_more',\n",
       " 'online_participants_higher_income_willingness_use_mobile_higher',\n",
       " 'online_participants_increasing_usage_of_smartphone',\n",
       " 'online_participants_insights',\n",
       " 'online_participants_lower_income_use_mobile_more',\n",
       " 'online_participants_male_more_android_than_female',\n",
       " 'online_participants_male_more_ios_than_female',\n",
       " 'online_participants_male_more_mobile_than_female ',\n",
       " 'online_participants_mobile_increasing',\n",
       " 'online_participants_more_educated_use_smartphone_more',\n",
       " 'online_participants_more_urban_use_mobile_more',\n",
       " 'online_participants_not_accepting_mobile_survey_older',\n",
       " 'online_participants_young_use_mobile_more',\n",
       " 'online_participants_younger_willingness_use_mobile_higher']"
      ]
     },
     "execution_count": 57,
     "metadata": {},
     "output_type": "execute_result"
    }
   ],
   "source": [
    "online_participants_indicator"
   ]
  },
  {
   "cell_type": "markdown",
   "metadata": {},
   "source": [
    "### Survey Design"
   ]
  },
  {
   "cell_type": "code",
   "execution_count": 58,
   "metadata": {},
   "outputs": [
    {
     "data": {
      "text/plain": [
       "mobile_design_recommendations                                                                      2\n",
       "mobile_design_paging_longer_completion_time_than_scrolling                                         2\n",
       "mobile_design_grid_versus_item_by_item_completion_time_shorter                                     2\n",
       "mobile_design_next_bottom_always_visible_less_missing_data_than_not_always_visible                 1\n",
       "mobile_design_questions_all_at_once_higher_usability                                               1\n",
       "mobile_design_paging_more_difficult_than_scrolling                                                 1\n",
       "mobile_design_paging_lower_satisfaction_than_scrolling                                             1\n",
       "mobile_design_paging_lower_item_nonreponse_than_scrolling                                          1\n",
       "mobile_design_paging_longer_completion_time_subjective_than_scrolling                              1\n",
       "mobile_design_paging_higher_primacy_effect_than_scrolling                                          1\n",
       "mobile_design_paging_higher_item_nonresponse_than_scrolling                                        1\n",
       "mobile_design_paging_higher_break_off_rate_than_scrolling                                          1\n",
       "mobile_design_optimized_online_higher_completion_rate                                              1\n",
       "mobile_design_optimized_and_auto_forwarding_shorter_reponse_time                                   1\n",
       "mobile_design_optimized_and_auto_forwarding_higher_satisfaction                                    1\n",
       "mobile_design_one_column_data_quality_difference_to_two_columns                                    1\n",
       "mobile_design_not_optimized_mobile_non_substantial_anwser_more_than_optimized                      1\n",
       "mobile_design_not_optimized_mobile_less_text_than_optimized                                        1\n",
       "mobile_design_not_optimized_mobile_completion_time_higher_than_optimized                           1\n",
       "mobile_design_not_optimized_mobile_avoid_text_answer_more_than_optimized                           1\n",
       "mobile_design_no_clear_effects_of_different_radio_button_alternatives                              1\n",
       "mobile_design_next_bottom_always_visible_with_columns_less_missing_data_than_not_always_visible    1\n",
       "mobile_design_next_bottom_always_visible_shorter_completion_time                                   1\n",
       "mobile_design_questions_all_at_once_higher_completion_time                                         1\n",
       "mobile_design_questions_by_one_at_a_time_higher_completion_time                                    1\n",
       "mobile_design_next_bottom_always_visible_lower_completion_time_than_not_always_visible             1\n",
       "mobile_design_standards                                                                            1\n",
       "mobile_design_visual_analogue_scales_more_non_response_than_buttons                                1\n",
       "mobile_design_visual_analogue_scales_more_negative_evaluation_than_buttons                         1\n",
       "mobile_design_video_able_to_view_less                                                              1\n",
       "mobile_design_vertical_more_difficult_than_horizontal                                              1\n",
       "mobile_design_vertical_longer_completion_time_than_horizontal                                      1\n",
       "mobile_design_vertical_higher_primacy_effect_than_horizontal                                       1\n",
       "mobile_design_two_columns_with_next_bottom_always_visible_less_missing_data_than_one_column        1\n",
       "mobile_design_text_navigation_preferred_over_icon_navigation                                       1\n",
       "mobile_design_split_questionnaire_design_more_accurate                                             1\n",
       "mobile_design_questions_by_one_at_a_time_higher_usability                                          1\n",
       "mobile_design_split_grid_into_different_questions_reduces_non_differentiation                      1\n",
       "mobile_design_sliders_more_non_substantive_anwser_than_buttons                                     1\n",
       "mobile_design_sliders_more_non_response_than_buttons                                               1\n",
       "mobile_design_sliders_more_negative_evaluation_than_buttons                                        1\n",
       "mobile_design_slider_satisficing_higher                                                            1\n",
       "mobile_design_slider_anwser_less_accurate                                                          1\n",
       "mobile_design_questions_by_section_higher_usability                                                1\n",
       "mobile_design_questions_by_section_higher_completion_time                                          1\n",
       "mobile_design_next_bottom_always_visible_more_missing-item                                         1\n",
       "mobile_design_visual_analogue_scales_more_non_substantive_anwser_than_buttons                      1\n",
       "mobile_design_always_on_next_button_data_quality_difference_to_two_columns                         1\n",
       "mobile_design_grid_versus_item_by_item_technical_difficulties_more                                 1\n",
       "mobile_design_grid_versus_item_by_item_straightlining_more                                         1\n",
       "mobile_design_grid_versus_item_by_item_non_substantial_anwsers_more                                1\n",
       "mobile_design_grid_versus_item_by_item_non_differentiation_more                                    1\n",
       "mobile_design_grid_versus_item_by_item_lost_focus_less                                             1\n",
       "mobile_design_grid_versus_item_by_item_failure_instruction_manipulation_check_more                 1\n",
       "mobile_design_grid_versus_item_by_item_correlation_more                                            1\n",
       "mobile_design_grid_versus_item_by_item_anwser_change_more                                          1\n",
       "mobile_design_emoji_usage_differs_between_countries                                                1\n",
       "mobile_design_emoji_request_less_complex_survey                                                    1\n",
       "mobile_design_emoji_request_increase_informatio_conveyed                                           1\n",
       "mobile_design_emoji_request_decreases_completion_time                                              1\n",
       "dtype: int64"
      ]
     },
     "execution_count": 58,
     "metadata": {},
     "output_type": "execute_result"
    }
   ],
   "source": [
    "design_dimensions = [x for x in data.columns.tolist() if re.match(\"mobile_design_.*\", x)] \n",
    "design_dimensions.sort()\n",
    "data[design_dimensions].count().sort_values(ascending = False).head(60)"
   ]
  },
  {
   "cell_type": "code",
   "execution_count": 59,
   "metadata": {},
   "outputs": [
    {
     "data": {
      "text/plain": [
       "['mobile_design_agree_disagree_shorter_completion_time_than_item_specific_question',\n",
       " 'mobile_design_always_on_next_button_data_quality_difference_to_two_columns',\n",
       " 'mobile_design_android_spinner_higher_satisfaction_than_radio_botton',\n",
       " 'mobile_design_android_spinner_longer_completion_time_than_radio_botton',\n",
       " 'mobile_design_android_spinner_lower_accuracy_than_radio_botton',\n",
       " 'mobile_design_date_picker_anwser_less_accurate',\n",
       " 'mobile_design_date_picker_less_successful_answers',\n",
       " 'mobile_design_emoji_different_mean_rating',\n",
       " 'mobile_design_emoji_different_satisfaction',\n",
       " 'mobile_design_emoji_preference_differs_between_countries',\n",
       " 'mobile_design_emoji_request_decreases_completion_time',\n",
       " 'mobile_design_emoji_request_increase_informatio_conveyed',\n",
       " 'mobile_design_emoji_request_less_complex_survey',\n",
       " 'mobile_design_emoji_usage_differs_between_countries',\n",
       " 'mobile_design_grid_versus_item_by_item_anwser_change_more',\n",
       " 'mobile_design_grid_versus_item_by_item_completion_time_shorter',\n",
       " 'mobile_design_grid_versus_item_by_item_correlation_more',\n",
       " 'mobile_design_grid_versus_item_by_item_failure_instruction_manipulation_check_more',\n",
       " 'mobile_design_grid_versus_item_by_item_lost_focus_less',\n",
       " 'mobile_design_grid_versus_item_by_item_non_differentiation_more',\n",
       " 'mobile_design_grid_versus_item_by_item_non_substantial_anwsers_more',\n",
       " 'mobile_design_grid_versus_item_by_item_straightlining_more',\n",
       " 'mobile_design_grid_versus_item_by_item_subjective_evaluation_lower',\n",
       " 'mobile_design_grid_versus_item_by_item_technical_difficulties_more',\n",
       " 'mobile_design_icon_navigation_versus_text_navigation_navigation_errors_more',\n",
       " 'mobile_design_icon_navigation_versus_text_navigation_reponse_time_first_try_slower',\n",
       " 'mobile_design_icon_navigation_versus_text_navigation_satisfaction_higher',\n",
       " 'mobile_design_image_effect_lower',\n",
       " 'mobile_design_ios_picker_longer_completion_time_than_radio_botton',\n",
       " 'mobile_design_ios_picker_lower_accuracy_than_radio_botton',\n",
       " 'mobile_design_ios_picker_versus_radio_botton_repondent_burden_higher',\n",
       " 'mobile_design_ios_picker_versus_radio_botton_satisfaction_higher',\n",
       " 'mobile_design_item_by_item_higher_number_of_columns_higher_dropout',\n",
       " 'mobile_design_item_by_item_higher_number_of_columns_higher_straightlining',\n",
       " 'mobile_design_item_by_item_higher_number_of_columns_higher_survey_rating',\n",
       " 'mobile_design_item_by_item_higher_number_of_rows_higher_dropout',\n",
       " 'mobile_design_item_by_item_higher_number_of_rows_higher_nonreponse',\n",
       " 'mobile_design_item_by_item_higher_number_of_rows_higher_straightlining',\n",
       " 'mobile_design_item_by_item_higher_number_of_rows_higher_survey_rating',\n",
       " 'mobile_design_layout_vertical_lower_item_nonresponse_than_horizontal',\n",
       " 'mobile_design_less_item_scrolling_shorter_completion_time',\n",
       " 'mobile_design_less_items_scrolling_higher_breakoff',\n",
       " 'mobile_design_measurement_invariance_decremental_scale',\n",
       " 'mobile_design_measurement_invariance_incremental_scale',\n",
       " 'mobile_design_modularization_increases_mobile_participation',\n",
       " 'mobile_design_more_correlation_in_grid_versus_one_at_a_time_presentation',\n",
       " 'mobile_design_next_bottom_always_visible_less_missing_data_than_not_always_visible',\n",
       " 'mobile_design_next_bottom_always_visible_lower_completion_time_than_not_always_visible',\n",
       " 'mobile_design_next_bottom_always_visible_more_missing-item',\n",
       " 'mobile_design_next_bottom_always_visible_shorter_completion_time',\n",
       " 'mobile_design_next_bottom_always_visible_with_columns_less_missing_data_than_not_always_visible',\n",
       " 'mobile_design_no_clear_effects_of_different_radio_button_alternatives',\n",
       " 'mobile_design_not_optimized_mobile_avoid_text_answer_more_than_optimized',\n",
       " 'mobile_design_not_optimized_mobile_completion_time_higher_than_optimized',\n",
       " 'mobile_design_not_optimized_mobile_less_text_than_optimized',\n",
       " 'mobile_design_not_optimized_mobile_non_substantial_anwser_more_than_optimized',\n",
       " 'mobile_design_one_column_data_quality_difference_to_two_columns',\n",
       " 'mobile_design_optimized_and_auto_forwarding_higher_satisfaction',\n",
       " 'mobile_design_optimized_and_auto_forwarding_shorter_reponse_time',\n",
       " 'mobile_design_optimized_online_higher_completion_rate',\n",
       " 'mobile_design_paging_higher_break_off_rate_than_scrolling',\n",
       " 'mobile_design_paging_higher_item_nonresponse_than_scrolling',\n",
       " 'mobile_design_paging_higher_primacy_effect_than_scrolling',\n",
       " 'mobile_design_paging_longer_completion_time_subjective_than_scrolling',\n",
       " 'mobile_design_paging_longer_completion_time_than_scrolling',\n",
       " 'mobile_design_paging_lower_item_nonreponse_than_scrolling',\n",
       " 'mobile_design_paging_lower_satisfaction_than_scrolling',\n",
       " 'mobile_design_paging_more_difficult_than_scrolling',\n",
       " 'mobile_design_questions_all_at_once_higher_completion_time',\n",
       " 'mobile_design_questions_all_at_once_higher_usability',\n",
       " 'mobile_design_questions_by_one_at_a_time_higher_completion_time',\n",
       " 'mobile_design_questions_by_one_at_a_time_higher_usability',\n",
       " 'mobile_design_questions_by_section_higher_completion_time',\n",
       " 'mobile_design_questions_by_section_higher_usability',\n",
       " 'mobile_design_recommendations',\n",
       " 'mobile_design_slider_anwser_less_accurate',\n",
       " 'mobile_design_slider_satisficing_higher',\n",
       " 'mobile_design_sliders_more_negative_evaluation_than_buttons',\n",
       " 'mobile_design_sliders_more_non_response_than_buttons',\n",
       " 'mobile_design_sliders_more_non_substantive_anwser_than_buttons',\n",
       " 'mobile_design_split_grid_into_different_questions_reduces_non_differentiation',\n",
       " 'mobile_design_split_questionnaire_design_more_accurate',\n",
       " 'mobile_design_standards',\n",
       " 'mobile_design_text_navigation_preferred_over_icon_navigation',\n",
       " 'mobile_design_two_columns_with_next_bottom_always_visible_less_missing_data_than_one_column',\n",
       " 'mobile_design_vertical_higher_primacy_effect_than_horizontal',\n",
       " 'mobile_design_vertical_longer_completion_time_than_horizontal',\n",
       " 'mobile_design_vertical_more_difficult_than_horizontal',\n",
       " 'mobile_design_video_able_to_view_less',\n",
       " 'mobile_design_visual_analogue_scales_more_negative_evaluation_than_buttons',\n",
       " 'mobile_design_visual_analogue_scales_more_non_response_than_buttons',\n",
       " 'mobile_design_visual_analogue_scales_more_non_substantive_anwser_than_buttons']"
      ]
     },
     "execution_count": 59,
     "metadata": {},
     "output_type": "execute_result"
    }
   ],
   "source": [
    "design_dimensions"
   ]
  },
  {
   "cell_type": "code",
   "execution_count": 60,
   "metadata": {},
   "outputs": [
    {
     "data": {
      "text/plain": [
       "invitation_mode_breakoff_rate_sms_invitation_higher                                  3\n",
       "invitation_mode_mobile_reponse_rate_sms_invitation_higher                            2\n",
       "invitation_mode_mobile_reponse_time_sms_invitation_shorter_than_e_mail_invitation    2\n",
       "invitation_mode_mobile_participants_rate_sms_invitation_higher                       1\n",
       "invitation_mode_mobile_reponse_time_after_reminder_faster                            1\n",
       "invitation_mode_optimized_letter_changes_age_structure                               1\n",
       "invitation_mode_optimized_letter_means_higher_mobile_reponses                        1\n",
       "invitation_mode_optimized_letter_means_higher_reponses                               1\n",
       "invitation_mode_rdd_sms_response_rate_low                                            1\n",
       "invitation_mode_sms_inivitation_higher_mobile_participation                          0\n",
       "invitation_mode_sms_invitation_mobile_breakoff_rate_higher                           0\n",
       "dtype: int64"
      ]
     },
     "execution_count": 60,
     "metadata": {},
     "output_type": "execute_result"
    }
   ],
   "source": [
    "invitation_mode = [x for x in data.columns.tolist() if re.match(\"invitation_mode_.*\", x)] \n",
    "invitation_mode.sort()\n",
    "data[invitation_mode].count().sort_values(ascending = False).head(60)"
   ]
  },
  {
   "cell_type": "code",
   "execution_count": 61,
   "metadata": {},
   "outputs": [
    {
     "data": {
      "text/plain": [
       "['invitation_mode_breakoff_rate_sms_invitation_higher',\n",
       " 'invitation_mode_mobile_participants_rate_sms_invitation_higher',\n",
       " 'invitation_mode_mobile_reponse_rate_sms_invitation_higher',\n",
       " 'invitation_mode_mobile_reponse_time_after_reminder_faster',\n",
       " 'invitation_mode_mobile_reponse_time_sms_invitation_shorter_than_e_mail_invitation',\n",
       " 'invitation_mode_optimized_letter_changes_age_structure',\n",
       " 'invitation_mode_optimized_letter_means_higher_mobile_reponses',\n",
       " 'invitation_mode_optimized_letter_means_higher_reponses',\n",
       " 'invitation_mode_rdd_sms_response_rate_low',\n",
       " 'invitation_mode_sms_inivitation_higher_mobile_participation',\n",
       " 'invitation_mode_sms_invitation_mobile_breakoff_rate_higher']"
      ]
     },
     "execution_count": 61,
     "metadata": {},
     "output_type": "execute_result"
    }
   ],
   "source": [
    "invitation_mode"
   ]
  },
  {
   "cell_type": "markdown",
   "metadata": {},
   "source": [
    "### Alternative Input Mode"
   ]
  },
  {
   "cell_type": "code",
   "execution_count": 62,
   "metadata": {},
   "outputs": [],
   "source": [
    "def get_results(df, columns):\n",
    "    interesting_columns = [\"survey_year\",\"survey_participants_number\",\n",
    "                           \"survey_country\", \"survey_operator\",\n",
    "                           \"survey_population\",\"survey_design_mobile_adapted\", ]\n",
    "    df_columns = df[interesting_columns + columns]\n",
    "    df_of_interest = df_columns[df_columns[alternative_input].notna().any(axis = 1)]\n",
    "    return df_of_interest"
   ]
  },
  {
   "cell_type": "code",
   "execution_count": 63,
   "metadata": {},
   "outputs": [
    {
     "data": {
      "text/plain": [
       "input_alternative_android_voice_higher_nonreponse_than_text                                    1\n",
       "input_alternative_messenger_shorter_text                                                       1\n",
       "input_alternative_voice_different_instruction_reduce_technical_problems                        1\n",
       "input_alternative_not_clear_reasons_for_non_compliance_images                                  1\n",
       "input_alternative_moving_data_standing_motion_compliance_more_than_walking                     1\n",
       "input_alternative_moving_data_standing_more_recency_than_walking                               1\n",
       "input_alternative_moving_data_standing_more_middle_values_than_walking                         1\n",
       "input_alternative_moving_data_standing_less_primacy_more_than_walking                          1\n",
       "input_alternative_moving_data_standing_less_extreme_values_than_walking                        1\n",
       "input_alternative_moving_data_higher_motion_means_higher_primacy_effect_if_single_question     1\n",
       "input_alternative_moving_data_higher_motion_means_higher_primacy_effect_if_grid                1\n",
       "input_alternative_moving_data_higher_motion_means_higher_completion_time_if_single_question    1\n",
       "input_alternative_moving_data_higher_motion_means_higher_completion_time_if_grid               1\n",
       "input_alternative_messenger_completion_time_longer                                             1\n",
       "input_alternative_android_voice_less_valid_answers_than_text                                   1\n",
       "input_alternative_messenger_completion_rate_lower                                              1\n",
       "input_alternative_ios_voice_trust_anonymity_less_than_text                                     1\n",
       "input_alternative_ios_voice_more_complicated_than_text                                         1\n",
       "input_alternative_ios_voice_less_valid_answers_than_text                                       1\n",
       "input_alternative_ios_voice_less_characters_than_text                                          1\n",
       "input_alternative_ios_voice_higher_nonreponse_than_text                                        1\n",
       "input_alternative_image_taking_lower_compliance_than_image_uploading                           1\n",
       "input_alternative_android_voice_trust_anonymity_less_than_text                                 1\n",
       "input_alternative_android_voice_more_techical_problems_than_text                               1\n",
       "input_alternative_android_voice_more_complicated_than_text                                     1\n",
       "input_alternative_android_voice_more_characters_than_text                                      1\n",
       "input_alternative_voice_faster_per_character_than_text                                         1\n",
       "dtype: int64"
      ]
     },
     "execution_count": 63,
     "metadata": {},
     "output_type": "execute_result"
    }
   ],
   "source": [
    "alternative_input = [x for x in data.columns.tolist() if re.match(\"input_alternativ.*\", x)] \n",
    "alternative_input.sort()\n",
    "data[alternative_input].count().sort_values(ascending = False).head(60)"
   ]
  },
  {
   "cell_type": "code",
   "execution_count": 64,
   "metadata": {},
   "outputs": [
    {
     "data": {
      "text/html": [
       "<div>\n",
       "<style scoped>\n",
       "    .dataframe tbody tr th:only-of-type {\n",
       "        vertical-align: middle;\n",
       "    }\n",
       "\n",
       "    .dataframe tbody tr th {\n",
       "        vertical-align: top;\n",
       "    }\n",
       "\n",
       "    .dataframe thead th {\n",
       "        text-align: right;\n",
       "    }\n",
       "</style>\n",
       "<table border=\"1\" class=\"dataframe\">\n",
       "  <thead>\n",
       "    <tr style=\"text-align: right;\">\n",
       "      <th></th>\n",
       "      <th>survey_year</th>\n",
       "      <th>survey_participants_number</th>\n",
       "      <th>survey_country</th>\n",
       "      <th>survey_operator</th>\n",
       "      <th>survey_population</th>\n",
       "      <th>survey_design_mobile_adapted</th>\n",
       "      <th>input_alternative_android_voice_higher_nonreponse_than_text</th>\n",
       "      <th>input_alternative_android_voice_less_valid_answers_than_text</th>\n",
       "      <th>input_alternative_android_voice_more_characters_than_text</th>\n",
       "      <th>input_alternative_android_voice_more_complicated_than_text</th>\n",
       "      <th>...</th>\n",
       "      <th>input_alternative_moving_data_higher_motion_means_higher_primacy_effect_if_grid</th>\n",
       "      <th>input_alternative_moving_data_higher_motion_means_higher_primacy_effect_if_single_question</th>\n",
       "      <th>input_alternative_moving_data_standing_less_extreme_values_than_walking</th>\n",
       "      <th>input_alternative_moving_data_standing_less_primacy_more_than_walking</th>\n",
       "      <th>input_alternative_moving_data_standing_more_middle_values_than_walking</th>\n",
       "      <th>input_alternative_moving_data_standing_more_recency_than_walking</th>\n",
       "      <th>input_alternative_moving_data_standing_motion_compliance_more_than_walking</th>\n",
       "      <th>input_alternative_not_clear_reasons_for_non_compliance_images</th>\n",
       "      <th>input_alternative_voice_different_instruction_reduce_technical_problems</th>\n",
       "      <th>input_alternative_voice_faster_per_character_than_text</th>\n",
       "    </tr>\n",
       "  </thead>\n",
       "  <tbody>\n",
       "    <tr>\n",
       "      <th>1</th>\n",
       "      <td>2017.0</td>\n",
       "      <td>1614</td>\n",
       "      <td>['Spain', 'Mexico']</td>\n",
       "      <td>Netquest</td>\n",
       "      <td>Millenials (16-34) with Smartphone</td>\n",
       "      <td>True</td>\n",
       "      <td>NaN</td>\n",
       "      <td>NaN</td>\n",
       "      <td>NaN</td>\n",
       "      <td>NaN</td>\n",
       "      <td>...</td>\n",
       "      <td>NaN</td>\n",
       "      <td>NaN</td>\n",
       "      <td>NaN</td>\n",
       "      <td>NaN</td>\n",
       "      <td>NaN</td>\n",
       "      <td>NaN</td>\n",
       "      <td>NaN</td>\n",
       "      <td>1.0</td>\n",
       "      <td>NaN</td>\n",
       "      <td>NaN</td>\n",
       "    </tr>\n",
       "    <tr>\n",
       "      <th>37</th>\n",
       "      <td>2019.0</td>\n",
       "      <td>1860</td>\n",
       "      <td>Spain</td>\n",
       "      <td>Netquest</td>\n",
       "      <td>Spainish People (16+) with Android</td>\n",
       "      <td>True</td>\n",
       "      <td>NaN</td>\n",
       "      <td>NaN</td>\n",
       "      <td>NaN</td>\n",
       "      <td>NaN</td>\n",
       "      <td>...</td>\n",
       "      <td>NaN</td>\n",
       "      <td>NaN</td>\n",
       "      <td>NaN</td>\n",
       "      <td>NaN</td>\n",
       "      <td>NaN</td>\n",
       "      <td>NaN</td>\n",
       "      <td>NaN</td>\n",
       "      <td>NaN</td>\n",
       "      <td>0.0</td>\n",
       "      <td>NaN</td>\n",
       "    </tr>\n",
       "    <tr>\n",
       "      <th>50</th>\n",
       "      <td>2018.0</td>\n",
       "      <td>521</td>\n",
       "      <td>Spain</td>\n",
       "      <td>Netquest</td>\n",
       "      <td>People older 25 interested in insurance</td>\n",
       "      <td>True</td>\n",
       "      <td>NaN</td>\n",
       "      <td>NaN</td>\n",
       "      <td>NaN</td>\n",
       "      <td>NaN</td>\n",
       "      <td>...</td>\n",
       "      <td>NaN</td>\n",
       "      <td>NaN</td>\n",
       "      <td>0.0</td>\n",
       "      <td>0.0</td>\n",
       "      <td>0.0</td>\n",
       "      <td>0.0</td>\n",
       "      <td>1.0</td>\n",
       "      <td>NaN</td>\n",
       "      <td>NaN</td>\n",
       "      <td>NaN</td>\n",
       "    </tr>\n",
       "    <tr>\n",
       "      <th>56</th>\n",
       "      <td>2018.0</td>\n",
       "      <td>1728</td>\n",
       "      <td>USA</td>\n",
       "      <td>Amazon Mechanical Turk</td>\n",
       "      <td>American Adults</td>\n",
       "      <td>True</td>\n",
       "      <td>NaN</td>\n",
       "      <td>NaN</td>\n",
       "      <td>NaN</td>\n",
       "      <td>NaN</td>\n",
       "      <td>...</td>\n",
       "      <td>NaN</td>\n",
       "      <td>NaN</td>\n",
       "      <td>NaN</td>\n",
       "      <td>NaN</td>\n",
       "      <td>NaN</td>\n",
       "      <td>NaN</td>\n",
       "      <td>NaN</td>\n",
       "      <td>NaN</td>\n",
       "      <td>NaN</td>\n",
       "      <td>NaN</td>\n",
       "    </tr>\n",
       "    <tr>\n",
       "      <th>66</th>\n",
       "      <td>2017.0</td>\n",
       "      <td>89</td>\n",
       "      <td>Germany</td>\n",
       "      <td>Author</td>\n",
       "      <td>Students</td>\n",
       "      <td>True</td>\n",
       "      <td>NaN</td>\n",
       "      <td>NaN</td>\n",
       "      <td>NaN</td>\n",
       "      <td>NaN</td>\n",
       "      <td>...</td>\n",
       "      <td>1.0</td>\n",
       "      <td>0.0</td>\n",
       "      <td>NaN</td>\n",
       "      <td>NaN</td>\n",
       "      <td>NaN</td>\n",
       "      <td>NaN</td>\n",
       "      <td>NaN</td>\n",
       "      <td>NaN</td>\n",
       "      <td>NaN</td>\n",
       "      <td>NaN</td>\n",
       "    </tr>\n",
       "    <tr>\n",
       "      <th>68</th>\n",
       "      <td>2018.0</td>\n",
       "      <td>1205</td>\n",
       "      <td>Spain</td>\n",
       "      <td>Netquest</td>\n",
       "      <td>Adults with Smartphone</td>\n",
       "      <td>True</td>\n",
       "      <td>1.0</td>\n",
       "      <td>0.0</td>\n",
       "      <td>1.0</td>\n",
       "      <td>1.0</td>\n",
       "      <td>...</td>\n",
       "      <td>NaN</td>\n",
       "      <td>NaN</td>\n",
       "      <td>NaN</td>\n",
       "      <td>NaN</td>\n",
       "      <td>NaN</td>\n",
       "      <td>NaN</td>\n",
       "      <td>NaN</td>\n",
       "      <td>NaN</td>\n",
       "      <td>NaN</td>\n",
       "      <td>1.0</td>\n",
       "    </tr>\n",
       "  </tbody>\n",
       "</table>\n",
       "<p>6 rows × 33 columns</p>\n",
       "</div>"
      ],
      "text/plain": [
       "    survey_year survey_participants_number       survey_country  \\\n",
       "1        2017.0                       1614  ['Spain', 'Mexico']   \n",
       "37       2019.0                       1860                Spain   \n",
       "50       2018.0                        521                Spain   \n",
       "56       2018.0                       1728                  USA   \n",
       "66       2017.0                         89              Germany   \n",
       "68       2018.0                       1205                Spain   \n",
       "\n",
       "           survey_operator                        survey_population  \\\n",
       "1                 Netquest       Millenials (16-34) with Smartphone   \n",
       "37                Netquest       Spainish People (16+) with Android   \n",
       "50                Netquest  People older 25 interested in insurance   \n",
       "56  Amazon Mechanical Turk                          American Adults   \n",
       "66                  Author                                 Students   \n",
       "68                Netquest                   Adults with Smartphone   \n",
       "\n",
       "   survey_design_mobile_adapted  \\\n",
       "1                          True   \n",
       "37                         True   \n",
       "50                         True   \n",
       "56                         True   \n",
       "66                         True   \n",
       "68                         True   \n",
       "\n",
       "    input_alternative_android_voice_higher_nonreponse_than_text  \\\n",
       "1                                                 NaN             \n",
       "37                                                NaN             \n",
       "50                                                NaN             \n",
       "56                                                NaN             \n",
       "66                                                NaN             \n",
       "68                                                1.0             \n",
       "\n",
       "    input_alternative_android_voice_less_valid_answers_than_text  \\\n",
       "1                                                 NaN              \n",
       "37                                                NaN              \n",
       "50                                                NaN              \n",
       "56                                                NaN              \n",
       "66                                                NaN              \n",
       "68                                                0.0              \n",
       "\n",
       "    input_alternative_android_voice_more_characters_than_text  \\\n",
       "1                                                 NaN           \n",
       "37                                                NaN           \n",
       "50                                                NaN           \n",
       "56                                                NaN           \n",
       "66                                                NaN           \n",
       "68                                                1.0           \n",
       "\n",
       "    input_alternative_android_voice_more_complicated_than_text  ...  \\\n",
       "1                                                 NaN           ...   \n",
       "37                                                NaN           ...   \n",
       "50                                                NaN           ...   \n",
       "56                                                NaN           ...   \n",
       "66                                                NaN           ...   \n",
       "68                                                1.0           ...   \n",
       "\n",
       "    input_alternative_moving_data_higher_motion_means_higher_primacy_effect_if_grid  \\\n",
       "1                                                 NaN                                 \n",
       "37                                                NaN                                 \n",
       "50                                                NaN                                 \n",
       "56                                                NaN                                 \n",
       "66                                                1.0                                 \n",
       "68                                                NaN                                 \n",
       "\n",
       "    input_alternative_moving_data_higher_motion_means_higher_primacy_effect_if_single_question  \\\n",
       "1                                                 NaN                                            \n",
       "37                                                NaN                                            \n",
       "50                                                NaN                                            \n",
       "56                                                NaN                                            \n",
       "66                                                0.0                                            \n",
       "68                                                NaN                                            \n",
       "\n",
       "    input_alternative_moving_data_standing_less_extreme_values_than_walking  \\\n",
       "1                                                 NaN                         \n",
       "37                                                NaN                         \n",
       "50                                                0.0                         \n",
       "56                                                NaN                         \n",
       "66                                                NaN                         \n",
       "68                                                NaN                         \n",
       "\n",
       "    input_alternative_moving_data_standing_less_primacy_more_than_walking  \\\n",
       "1                                                 NaN                       \n",
       "37                                                NaN                       \n",
       "50                                                0.0                       \n",
       "56                                                NaN                       \n",
       "66                                                NaN                       \n",
       "68                                                NaN                       \n",
       "\n",
       "    input_alternative_moving_data_standing_more_middle_values_than_walking  \\\n",
       "1                                                 NaN                        \n",
       "37                                                NaN                        \n",
       "50                                                0.0                        \n",
       "56                                                NaN                        \n",
       "66                                                NaN                        \n",
       "68                                                NaN                        \n",
       "\n",
       "    input_alternative_moving_data_standing_more_recency_than_walking  \\\n",
       "1                                                 NaN                  \n",
       "37                                                NaN                  \n",
       "50                                                0.0                  \n",
       "56                                                NaN                  \n",
       "66                                                NaN                  \n",
       "68                                                NaN                  \n",
       "\n",
       "    input_alternative_moving_data_standing_motion_compliance_more_than_walking  \\\n",
       "1                                                 NaN                            \n",
       "37                                                NaN                            \n",
       "50                                                1.0                            \n",
       "56                                                NaN                            \n",
       "66                                                NaN                            \n",
       "68                                                NaN                            \n",
       "\n",
       "    input_alternative_not_clear_reasons_for_non_compliance_images  \\\n",
       "1                                                 1.0               \n",
       "37                                                NaN               \n",
       "50                                                NaN               \n",
       "56                                                NaN               \n",
       "66                                                NaN               \n",
       "68                                                NaN               \n",
       "\n",
       "    input_alternative_voice_different_instruction_reduce_technical_problems  \\\n",
       "1                                                 NaN                         \n",
       "37                                                0.0                         \n",
       "50                                                NaN                         \n",
       "56                                                NaN                         \n",
       "66                                                NaN                         \n",
       "68                                                NaN                         \n",
       "\n",
       "    input_alternative_voice_faster_per_character_than_text  \n",
       "1                                                 NaN       \n",
       "37                                                NaN       \n",
       "50                                                NaN       \n",
       "56                                                NaN       \n",
       "66                                                NaN       \n",
       "68                                                1.0       \n",
       "\n",
       "[6 rows x 33 columns]"
      ]
     },
     "execution_count": 64,
     "metadata": {},
     "output_type": "execute_result"
    }
   ],
   "source": [
    "get_results(data, alternative_input)"
   ]
  },
  {
   "cell_type": "code",
   "execution_count": 65,
   "metadata": {},
   "outputs": [
    {
     "data": {
      "text/plain": [
       "['input_alternative_android_voice_higher_nonreponse_than_text',\n",
       " 'input_alternative_android_voice_less_valid_answers_than_text',\n",
       " 'input_alternative_android_voice_more_characters_than_text',\n",
       " 'input_alternative_android_voice_more_complicated_than_text',\n",
       " 'input_alternative_android_voice_more_techical_problems_than_text',\n",
       " 'input_alternative_android_voice_trust_anonymity_less_than_text',\n",
       " 'input_alternative_image_taking_lower_compliance_than_image_uploading',\n",
       " 'input_alternative_ios_voice_higher_nonreponse_than_text',\n",
       " 'input_alternative_ios_voice_less_characters_than_text',\n",
       " 'input_alternative_ios_voice_less_valid_answers_than_text',\n",
       " 'input_alternative_ios_voice_more_complicated_than_text',\n",
       " 'input_alternative_ios_voice_trust_anonymity_less_than_text',\n",
       " 'input_alternative_messenger_completion_rate_lower',\n",
       " 'input_alternative_messenger_completion_time_longer',\n",
       " 'input_alternative_messenger_shorter_text',\n",
       " 'input_alternative_moving_data_higher_motion_means_higher_completion_time_if_grid',\n",
       " 'input_alternative_moving_data_higher_motion_means_higher_completion_time_if_single_question',\n",
       " 'input_alternative_moving_data_higher_motion_means_higher_primacy_effect_if_grid',\n",
       " 'input_alternative_moving_data_higher_motion_means_higher_primacy_effect_if_single_question',\n",
       " 'input_alternative_moving_data_standing_less_extreme_values_than_walking',\n",
       " 'input_alternative_moving_data_standing_less_primacy_more_than_walking',\n",
       " 'input_alternative_moving_data_standing_more_middle_values_than_walking',\n",
       " 'input_alternative_moving_data_standing_more_recency_than_walking',\n",
       " 'input_alternative_moving_data_standing_motion_compliance_more_than_walking',\n",
       " 'input_alternative_not_clear_reasons_for_non_compliance_images',\n",
       " 'input_alternative_voice_different_instruction_reduce_technical_problems',\n",
       " 'input_alternative_voice_faster_per_character_than_text']"
      ]
     },
     "execution_count": 65,
     "metadata": {},
     "output_type": "execute_result"
    }
   ],
   "source": [
    "alternative_input"
   ]
  },
  {
   "cell_type": "markdown",
   "metadata": {},
   "source": [
    "### Discussion"
   ]
  },
  {
   "cell_type": "code",
   "execution_count": 66,
   "metadata": {},
   "outputs": [
    {
     "data": {
      "text/plain": [
       "article_author                        86\n",
       "article_topic_mobile_design           86\n",
       "article_genre                         86\n",
       "article_year                          86\n",
       "article_topic_survey_quality          86\n",
       "article_topic_online_participants     86\n",
       "article_topic_mobile_participants     86\n",
       "article_topic_review                  86\n",
       "article_topic_invitation_mode         86\n",
       "article_topic_alternative_input       86\n",
       "article_name                          86\n",
       "article_journal                       84\n",
       "article_topic                         82\n",
       "article_type                          82\n",
       "survey_data                           81\n",
       "survey_participants_number            73\n",
       "survey_mode                           71\n",
       "survey_country                        71\n",
       "survey_population                     70\n",
       "survey_operator                       70\n",
       "survey_participants_representative    67\n",
       "survey_year                           62\n",
       "survey_year_detail                    62\n",
       "survey_design_mobile_adapted          48\n",
       "survey_participants_number_mobile     25\n",
       "survey_participants_source            18\n",
       "survey_incentive                       9\n",
       "review_mobile_design                   5\n",
       "survey_invitation_mode                 2\n",
       "review_data_quality                    2\n",
       "review_current_research                2\n",
       "article_proceeding                     2\n",
       "survey_number_inivitations             1\n",
       "survey_data_from_another_survey        1\n",
       "review_mobile_participants             1\n",
       "dtype: int64"
      ]
     },
     "execution_count": 66,
     "metadata": {},
     "output_type": "execute_result"
    }
   ],
   "source": [
    "other_topics = [x for x in data.columns.tolist() if re.match(\"^(?!mobile|input|invitation|online|paradata).*\", x)] \n",
    "other_topics.sort()\n",
    "data[other_topics].count().sort_values(ascending = False).head(60)"
   ]
  },
  {
   "cell_type": "code",
   "execution_count": 67,
   "metadata": {},
   "outputs": [
    {
     "data": {
      "text/plain": [
       "['article_author',\n",
       " 'article_genre',\n",
       " 'article_journal',\n",
       " 'article_name',\n",
       " 'article_proceeding',\n",
       " 'article_topic',\n",
       " 'article_topic_alternative_input',\n",
       " 'article_topic_invitation_mode',\n",
       " 'article_topic_mobile_design',\n",
       " 'article_topic_mobile_participants',\n",
       " 'article_topic_online_participants',\n",
       " 'article_topic_review',\n",
       " 'article_topic_survey_quality',\n",
       " 'article_type',\n",
       " 'article_year',\n",
       " 'review_current_research',\n",
       " 'review_data_quality',\n",
       " 'review_mobile_design',\n",
       " 'review_mobile_participants',\n",
       " 'survey_country',\n",
       " 'survey_data',\n",
       " 'survey_data_from_another_survey',\n",
       " 'survey_design_mobile_adapted',\n",
       " 'survey_incentive',\n",
       " 'survey_invitation_mode',\n",
       " 'survey_mode',\n",
       " 'survey_number_inivitations',\n",
       " 'survey_operator',\n",
       " 'survey_participants_number',\n",
       " 'survey_participants_number_mobile',\n",
       " 'survey_participants_representative',\n",
       " 'survey_participants_source',\n",
       " 'survey_population',\n",
       " 'survey_year',\n",
       " 'survey_year_detail']"
      ]
     },
     "execution_count": 67,
     "metadata": {},
     "output_type": "execute_result"
    }
   ],
   "source": [
    "other_topics"
   ]
  }
 ],
 "metadata": {
  "kernelspec": {
   "display_name": "Python 3 (ipykernel)",
   "language": "python",
   "name": "python3"
  },
  "language_info": {
   "codemirror_mode": {
    "name": "ipython",
    "version": 3
   },
   "file_extension": ".py",
   "mimetype": "text/x-python",
   "name": "python",
   "nbconvert_exporter": "python",
   "pygments_lexer": "ipython3",
   "version": "3.8.12"
  }
 },
 "nbformat": 4,
 "nbformat_minor": 1
}